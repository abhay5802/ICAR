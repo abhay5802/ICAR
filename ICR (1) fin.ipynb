{
  "nbformat": 4,
  "nbformat_minor": 0,
  "metadata": {
    "colab": {
      "provenance": []
    },
    "kernelspec": {
      "name": "python3",
      "display_name": "Python 3"
    },
    "language_info": {
      "name": "python"
    }
  },
  "cells": [
    {
      "cell_type": "code",
      "source": [
        "!pip install lazypredict"
      ],
      "metadata": {
        "id": "VuzroT8AB4B3"
      },
      "execution_count": null,
      "outputs": []
    },
    {
      "cell_type": "code",
      "execution_count": null,
      "metadata": {
        "id": "NMHeGo9_tvjc"
      },
      "outputs": [],
      "source": [
        "import numpy as np\n",
        "from numpy import isnan\n",
        "from sklearn.decomposition import PCA\n",
        "from sklearn.metrics import mean_squared_error\n",
        "from sklearn.model_selection import train_test_split\n",
        "from sklearn.metrics import r2_score\n",
        "from sklearn.ensemble import ExtraTreesClassifier\n",
        "from numpy import mean\n",
        "from numpy import std\n",
        "from sklearn.datasets import make_classification\n",
        "from sklearn.model_selection import cross_val_score\n",
        "from sklearn.model_selection import RepeatedStratifiedKFold\n",
        "from sklearn.ensemble import RandomForestClassifier\n",
        "from sklearn.preprocessing import scale\n",
        "import pandas as pd\n",
        "import matplotlib.pyplot as plt\n",
        "import seaborn as sns\n",
        "from sklearn.impute import KNNImputer\n",
        "from sklearn.preprocessing import scale\n",
        "from numpy import set_printoptions\n",
        "from sklearn.feature_selection import SelectKBest\n",
        "from sklearn.feature_selection import f_classif\n",
        "from sklearn.preprocessing import StandardScaler\n",
        "from sklearn.linear_model import LogisticRegression\n",
        "from sklearn.metrics import accuracy_score\n",
        "from sklearn.tree import DecisionTreeClassifier\n",
        "from sklearn import metrics\n",
        "from sklearn.linear_model import Lasso\n",
        "import re\n",
        "from sklearn.ensemble import RandomForestRegressor\n",
        "from sklearn.utils import shuffle\n",
        "from sklearn.linear_model import LinearRegression\n",
        "from sklearn.metrics import mean_squared_error\n",
        "from sklearn.metrics import r2_score\n",
        "from sklearn.feature_selection import SelectKBest\n",
        "from sklearn.feature_selection import chi2\n",
        "from sklearn.ensemble import ExtraTreesClassifier\n",
        "from sklearn.datasets import make_classification\n",
        "from sklearn.model_selection import cross_val_score\n",
        "from sklearn.model_selection import RepeatedStratifiedKFold\n",
        "from sklearn.ensemble import RandomForestClassifier\n",
        "from sklearn import preprocessing\n",
        "from numpy import set_printoptions\n",
        "from sklearn.feature_selection import SelectKBest\n",
        "from sklearn.feature_selection import f_classif\n",
        "from sklearn.naive_bayes import GaussianNB\n",
        "from sklearn import metrics\n",
        "from sklearn.preprocessing import StandardScaler\n",
        "from sklearn.linear_model import LogisticRegression\n",
        "from sklearn.metrics import accuracy_score\n",
        "from sklearn.tree import DecisionTreeClassifier\n",
        "from sklearn.model_selection import train_test_split\n",
        "from sklearn import metrics\n",
        "from sklearn import svm\n",
        "from sklearn.impute import SimpleImputer\n",
        "from sklearn.neighbors import KNeighborsClassifier\n",
        "from sklearn.preprocessing import LabelEncoder, OneHotEncoder\n",
        "from sklearn import svm, tree, linear_model, neighbors, naive_bayes, ensemble, discriminant_analysis, gaussian_process\n",
        "from xgboost import XGBClassifier\n",
        "from sklearn.model_selection import train_test_split, cross_validate\n",
        "from sklearn.svm import SVC, LinearSVC\n",
        "from sklearn.linear_model import Perceptron, SGDClassifier, LogisticRegression\n",
        "from xgboost import XGBClassifier\n"
      ]
    },
    {
      "cell_type": "code",
      "source": [
        "df=pd.read_csv('/content/train.csv')"
      ],
      "metadata": {
        "id": "HqYCSSRtAIWv"
      },
      "execution_count": null,
      "outputs": []
    },
    {
      "cell_type": "code",
      "source": [
        "df.shape"
      ],
      "metadata": {
        "id": "1ATQR4UlGPGM"
      },
      "execution_count": null,
      "outputs": []
    },
    {
      "cell_type": "code",
      "source": [
        "df.columns"
      ],
      "metadata": {
        "id": "7D3_9WN6A7hg"
      },
      "execution_count": null,
      "outputs": []
    },
    {
      "cell_type": "code",
      "source": [
        "df.info()"
      ],
      "metadata": {
        "id": "65MKx6jRBAU2"
      },
      "execution_count": null,
      "outputs": []
    },
    {
      "cell_type": "code",
      "source": [
        "df.describe()"
      ],
      "metadata": {
        "id": "_0RRX6ndBOAW"
      },
      "execution_count": null,
      "outputs": []
    },
    {
      "cell_type": "markdown",
      "source": [
        "Finding Columns with missing values"
      ],
      "metadata": {
        "id": "1Mnq10RACLMP"
      }
    },
    {
      "cell_type": "code",
      "source": [
        "df.isnull().sum()"
      ],
      "metadata": {
        "id": "D-4KxjqVDBLi"
      },
      "execution_count": null,
      "outputs": []
    },
    {
      "cell_type": "code",
      "source": [
        "[features for features in df.columns if df[features].isnull().sum() > 0]"
      ],
      "metadata": {
        "id": "MEwURbkpDnxf",
        "colab": {
          "base_uri": "https://localhost:8080/"
        },
        "outputId": "35460f85-ca81-4766-8e3b-80433cfd59af"
      },
      "execution_count": null,
      "outputs": [
        {
          "output_type": "execute_result",
          "data": {
            "text/plain": [
              "['BQ', 'CB', 'CC', 'DU', 'EL', 'FC', 'FL', 'FS', 'GL']"
            ]
          },
          "metadata": {},
          "execution_count": 10
        }
      ]
    },
    {
      "cell_type": "code",
      "source": [
        "plot_df = df['Class'].value_counts().index\n",
        "plot_values = df['Class'].value_counts().values\n",
        "plt.pie(plot_values,labels=plot_df)"
      ],
      "metadata": {
        "id": "uVD1-LreNGHv"
      },
      "execution_count": null,
      "outputs": []
    },
    {
      "cell_type": "code",
      "source": [
        "df['BQ'].describe()"
      ],
      "metadata": {
        "id": "sVsi9NAPptry"
      },
      "execution_count": null,
      "outputs": []
    },
    {
      "cell_type": "code",
      "source": [
        "features_with_nan = [features for features in df.columns if df[features].isnull().sum() > 0]\n",
        "for feature in features_with_nan:\n",
        "  print(feature,np.round(df[feature].isnull().mean(),4),'% missing values')"
      ],
      "metadata": {
        "id": "sImEUpLrd3bO",
        "colab": {
          "base_uri": "https://localhost:8080/"
        },
        "outputId": "576de03a-507d-4daf-8473-19d08ed8690b"
      },
      "execution_count": null,
      "outputs": [
        {
          "output_type": "stream",
          "name": "stdout",
          "text": [
            "DU 0.0016 % missing values\n",
            "FC 0.0016 % missing values\n",
            "FL 0.0016 % missing values\n",
            "GL 0.0016 % missing values\n"
          ]
        }
      ]
    },
    {
      "cell_type": "code",
      "source": [
        "for feature in features_with_nan :\n",
        "  # replacing nan values with median value of that column\n",
        "  median_value=df[feature].median()\n",
        "  df[feature].fillna(median_value,inplace=True)\n",
        "\n",
        "df[features_with_nan].isnull().sum()"
      ],
      "metadata": {
        "id": "06SdpjLtuzPz",
        "colab": {
          "base_uri": "https://localhost:8080/"
        },
        "outputId": "4e4968c8-9be2-4b75-e2c6-f9af3cc32760"
      },
      "execution_count": null,
      "outputs": [
        {
          "output_type": "execute_result",
          "data": {
            "text/plain": [
              "DU    0\n",
              "FC    0\n",
              "FL    0\n",
              "GL    0\n",
              "dtype: int64"
            ]
          },
          "metadata": {},
          "execution_count": 21
        }
      ]
    },
    {
      "cell_type": "code",
      "source": [
        "pd.set_option('display.max_rows',None)\n",
        "pd.set_option('display.max_columns',None)\n",
        "display(df)"
      ],
      "metadata": {
        "id": "5AkBuK8__h8f"
      },
      "execution_count": null,
      "outputs": []
    },
    {
      "cell_type": "code",
      "source": [
        "df.head()"
      ],
      "metadata": {
        "id": "5a_6VibUVw49"
      },
      "execution_count": null,
      "outputs": []
    },
    {
      "cell_type": "markdown",
      "source": [
        "# **Feature Scaling**"
      ],
      "metadata": {
        "id": "YvrUmrUD5xrM"
      }
    },
    {
      "cell_type": "code",
      "source": [
        "feature_scale=[feature for feature in df.columns if feature not in ['Id','EJ','Class']]\n",
        "\n",
        "from sklearn.preprocessing import StandardScaler\n",
        "scaler = StandardScaler()\n",
        "scaler.fit(df[feature_scale])"
      ],
      "metadata": {
        "colab": {
          "base_uri": "https://localhost:8080/",
          "height": 75
        },
        "id": "6MGZqaWi53QJ",
        "outputId": "62dfe3d0-bb19-449a-f817-1779a5ca1016"
      },
      "execution_count": null,
      "outputs": [
        {
          "output_type": "execute_result",
          "data": {
            "text/plain": [
              "StandardScaler()"
            ],
            "text/html": [
              "<style>#sk-container-id-1 {color: black;background-color: white;}#sk-container-id-1 pre{padding: 0;}#sk-container-id-1 div.sk-toggleable {background-color: white;}#sk-container-id-1 label.sk-toggleable__label {cursor: pointer;display: block;width: 100%;margin-bottom: 0;padding: 0.3em;box-sizing: border-box;text-align: center;}#sk-container-id-1 label.sk-toggleable__label-arrow:before {content: \"▸\";float: left;margin-right: 0.25em;color: #696969;}#sk-container-id-1 label.sk-toggleable__label-arrow:hover:before {color: black;}#sk-container-id-1 div.sk-estimator:hover label.sk-toggleable__label-arrow:before {color: black;}#sk-container-id-1 div.sk-toggleable__content {max-height: 0;max-width: 0;overflow: hidden;text-align: left;background-color: #f0f8ff;}#sk-container-id-1 div.sk-toggleable__content pre {margin: 0.2em;color: black;border-radius: 0.25em;background-color: #f0f8ff;}#sk-container-id-1 input.sk-toggleable__control:checked~div.sk-toggleable__content {max-height: 200px;max-width: 100%;overflow: auto;}#sk-container-id-1 input.sk-toggleable__control:checked~label.sk-toggleable__label-arrow:before {content: \"▾\";}#sk-container-id-1 div.sk-estimator input.sk-toggleable__control:checked~label.sk-toggleable__label {background-color: #d4ebff;}#sk-container-id-1 div.sk-label input.sk-toggleable__control:checked~label.sk-toggleable__label {background-color: #d4ebff;}#sk-container-id-1 input.sk-hidden--visually {border: 0;clip: rect(1px 1px 1px 1px);clip: rect(1px, 1px, 1px, 1px);height: 1px;margin: -1px;overflow: hidden;padding: 0;position: absolute;width: 1px;}#sk-container-id-1 div.sk-estimator {font-family: monospace;background-color: #f0f8ff;border: 1px dotted black;border-radius: 0.25em;box-sizing: border-box;margin-bottom: 0.5em;}#sk-container-id-1 div.sk-estimator:hover {background-color: #d4ebff;}#sk-container-id-1 div.sk-parallel-item::after {content: \"\";width: 100%;border-bottom: 1px solid gray;flex-grow: 1;}#sk-container-id-1 div.sk-label:hover label.sk-toggleable__label {background-color: #d4ebff;}#sk-container-id-1 div.sk-serial::before {content: \"\";position: absolute;border-left: 1px solid gray;box-sizing: border-box;top: 0;bottom: 0;left: 50%;z-index: 0;}#sk-container-id-1 div.sk-serial {display: flex;flex-direction: column;align-items: center;background-color: white;padding-right: 0.2em;padding-left: 0.2em;position: relative;}#sk-container-id-1 div.sk-item {position: relative;z-index: 1;}#sk-container-id-1 div.sk-parallel {display: flex;align-items: stretch;justify-content: center;background-color: white;position: relative;}#sk-container-id-1 div.sk-item::before, #sk-container-id-1 div.sk-parallel-item::before {content: \"\";position: absolute;border-left: 1px solid gray;box-sizing: border-box;top: 0;bottom: 0;left: 50%;z-index: -1;}#sk-container-id-1 div.sk-parallel-item {display: flex;flex-direction: column;z-index: 1;position: relative;background-color: white;}#sk-container-id-1 div.sk-parallel-item:first-child::after {align-self: flex-end;width: 50%;}#sk-container-id-1 div.sk-parallel-item:last-child::after {align-self: flex-start;width: 50%;}#sk-container-id-1 div.sk-parallel-item:only-child::after {width: 0;}#sk-container-id-1 div.sk-dashed-wrapped {border: 1px dashed gray;margin: 0 0.4em 0.5em 0.4em;box-sizing: border-box;padding-bottom: 0.4em;background-color: white;}#sk-container-id-1 div.sk-label label {font-family: monospace;font-weight: bold;display: inline-block;line-height: 1.2em;}#sk-container-id-1 div.sk-label-container {text-align: center;}#sk-container-id-1 div.sk-container {/* jupyter's `normalize.less` sets `[hidden] { display: none; }` but bootstrap.min.css set `[hidden] { display: none !important; }` so we also need the `!important` here to be able to override the default hidden behavior on the sphinx rendered scikit-learn.org. See: https://github.com/scikit-learn/scikit-learn/issues/21755 */display: inline-block !important;position: relative;}#sk-container-id-1 div.sk-text-repr-fallback {display: none;}</style><div id=\"sk-container-id-1\" class=\"sk-top-container\"><div class=\"sk-text-repr-fallback\"><pre>StandardScaler()</pre><b>In a Jupyter environment, please rerun this cell to show the HTML representation or trust the notebook. <br />On GitHub, the HTML representation is unable to render, please try loading this page with nbviewer.org.</b></div><div class=\"sk-container\" hidden><div class=\"sk-item\"><div class=\"sk-estimator sk-toggleable\"><input class=\"sk-toggleable__control sk-hidden--visually\" id=\"sk-estimator-id-1\" type=\"checkbox\" checked><label for=\"sk-estimator-id-1\" class=\"sk-toggleable__label sk-toggleable__label-arrow\">StandardScaler</label><div class=\"sk-toggleable__content\"><pre>StandardScaler()</pre></div></div></div></div></div>"
            ]
          },
          "metadata": {},
          "execution_count": 7
        }
      ]
    },
    {
      "cell_type": "code",
      "source": [
        "df.head()"
      ],
      "metadata": {
        "id": "A6qN0GUMV1Nr"
      },
      "execution_count": null,
      "outputs": []
    },
    {
      "cell_type": "code",
      "source": [
        "df.isnull().sum()"
      ],
      "metadata": {
        "colab": {
          "base_uri": "https://localhost:8080/"
        },
        "id": "jwBXGDhpWt2V",
        "outputId": "82c433b8-6664-4ee0-82f4-ff315ced21ac"
      },
      "execution_count": null,
      "outputs": [
        {
          "output_type": "execute_result",
          "data": {
            "text/plain": [
              "Id       0\n",
              "AB       0\n",
              "AF       0\n",
              "AH       0\n",
              "AM       0\n",
              "AR       0\n",
              "AX       0\n",
              "AY       0\n",
              "AZ       0\n",
              "BC       0\n",
              "BD       0\n",
              "BN       0\n",
              "BP       0\n",
              "BQ       0\n",
              "BR       0\n",
              "BZ       0\n",
              "CB       0\n",
              "CC       0\n",
              "CD       0\n",
              "CF       0\n",
              "CH       0\n",
              "CL       0\n",
              "CR       0\n",
              "CS       0\n",
              "CU       0\n",
              "CW       0\n",
              "DA       0\n",
              "DE       0\n",
              "DF       0\n",
              "DH       0\n",
              "DI       0\n",
              "DL       0\n",
              "DN       0\n",
              "DU       0\n",
              "DV       0\n",
              "DY       0\n",
              "EB       0\n",
              "EE       0\n",
              "EG       0\n",
              "EH       0\n",
              "EJ       0\n",
              "EL       0\n",
              "EP       0\n",
              "EU       0\n",
              "FC       0\n",
              "FD       0\n",
              "FE       0\n",
              "FI       0\n",
              "FL       0\n",
              "FR       0\n",
              "FS       0\n",
              "GB       0\n",
              "GE       0\n",
              "GF       0\n",
              "GH       0\n",
              "GI       0\n",
              "GL       0\n",
              "Class    0\n",
              "dtype: int64"
            ]
          },
          "metadata": {},
          "execution_count": 22
        }
      ]
    },
    {
      "cell_type": "code",
      "source": [
        "data=pd.concat([df[['Id','EJ','Class']].reset_index(drop=True),\n",
        "                pd.DataFrame(scaler.transform(df[feature_scale]), columns=feature_scale)],\n",
        "               axis=1)"
      ],
      "metadata": {
        "id": "-8VcyMay8ion"
      },
      "execution_count": null,
      "outputs": []
    },
    {
      "cell_type": "code",
      "source": [
        "pd.set_option('display.max_columns',None)\n",
        "pd.set_option('display.max_rows',None)\n",
        "display(data)\n",
        "data.head()"
      ],
      "metadata": {
        "id": "vhIcCxcIBDPJ"
      },
      "execution_count": null,
      "outputs": []
    },
    {
      "cell_type": "code",
      "source": [
        "data.head()"
      ],
      "metadata": {
        "id": "ot1Z2yM-Cyh5"
      },
      "execution_count": null,
      "outputs": []
    },
    {
      "cell_type": "code",
      "source": [
        "ds=data.drop(['BQnan','CBnan','CCnan','ELnan','FSnan'],axis=1)"
      ],
      "metadata": {
        "id": "gYPJAEGoC0Lp"
      },
      "execution_count": null,
      "outputs": []
    },
    {
      "cell_type": "code",
      "source": [
        "ds.to_csv('train_norm.csv',index=False)"
      ],
      "metadata": {
        "id": "H2Va1Q4_DRdL"
      },
      "execution_count": null,
      "outputs": []
    },
    {
      "cell_type": "code",
      "source": [
        "from sklearn.linear_model import Lasso\n",
        "from sklearn.feature_selection import SelectFromModel"
      ],
      "metadata": {
        "id": "a7z36PtOHPrP"
      },
      "execution_count": null,
      "outputs": []
    },
    {
      "cell_type": "code",
      "source": [
        "dataset = pd.read_csv('/content/train_norm.csv')"
      ],
      "metadata": {
        "id": "OPObj5yaHgkt"
      },
      "execution_count": null,
      "outputs": []
    },
    {
      "cell_type": "code",
      "source": [
        "dataset.head()"
      ],
      "metadata": {
        "id": "Z3s-8yasH4ZH"
      },
      "execution_count": null,
      "outputs": []
    },
    {
      "cell_type": "code",
      "source": [
        "norm_features_with_nan = [features for features in dataset.columns if dataset[features].isnull().sum() > 0]\n",
        "for feature in norm_features_with_nan:\n",
        "  print(feature,np.round(dataset[feature].isnull().mean(),4),'% missing values')"
      ],
      "metadata": {
        "id": "b3frZj_yFInw"
      },
      "execution_count": null,
      "outputs": []
    },
    {
      "cell_type": "code",
      "source": [
        "print(norm_features_with_nan)"
      ],
      "metadata": {
        "id": "PmsGUMeuFruW"
      },
      "execution_count": null,
      "outputs": []
    },
    {
      "cell_type": "code",
      "source": [
        "for feature in norm_features_with_nan :\n",
        "  # replacing nan values with mean value of that column\n",
        "  mean_value=dataset[feature].mean()\n",
        "  dataset[feature+'nan']=np.where(dataset[feature].isnull(),1,0)\n",
        "  dataset[feature].fillna(mean_value,inplace=True)\n",
        "\n",
        "dataset[norm_features_with_nan].isnull().sum()"
      ],
      "metadata": {
        "id": "l7ApPVlEFuz1"
      },
      "execution_count": null,
      "outputs": []
    },
    {
      "cell_type": "code",
      "source": [
        "df['EJ'] = LabelEncoder().fit_transform(df['EJ'])"
      ],
      "metadata": {
        "id": "2wllR8q8WDWE"
      },
      "execution_count": null,
      "outputs": []
    },
    {
      "cell_type": "code",
      "source": [
        "x_train = df.drop(['Id','Class'],axis=1)\n",
        "Y_train = df[['Class']]"
      ],
      "metadata": {
        "id": "DJhPDvmfH_yh"
      },
      "execution_count": null,
      "outputs": []
    },
    {
      "cell_type": "code",
      "source": [
        "feature_sel_model = SelectFromModel(Lasso(alpha=0.05, random_state=0))\n",
        "feature_sel_model.fit(x_train,Y_train)"
      ],
      "metadata": {
        "id": "J9bP9rvIGRI9",
        "colab": {
          "base_uri": "https://localhost:8080/",
          "height": 118
        },
        "outputId": "d035ae09-90d2-44bf-bcd9-8b27a7f4b995"
      },
      "execution_count": null,
      "outputs": [
        {
          "output_type": "execute_result",
          "data": {
            "text/plain": [
              "SelectFromModel(estimator=Lasso(alpha=0.05, random_state=0))"
            ],
            "text/html": [
              "<style>#sk-container-id-4 {color: black;background-color: white;}#sk-container-id-4 pre{padding: 0;}#sk-container-id-4 div.sk-toggleable {background-color: white;}#sk-container-id-4 label.sk-toggleable__label {cursor: pointer;display: block;width: 100%;margin-bottom: 0;padding: 0.3em;box-sizing: border-box;text-align: center;}#sk-container-id-4 label.sk-toggleable__label-arrow:before {content: \"▸\";float: left;margin-right: 0.25em;color: #696969;}#sk-container-id-4 label.sk-toggleable__label-arrow:hover:before {color: black;}#sk-container-id-4 div.sk-estimator:hover label.sk-toggleable__label-arrow:before {color: black;}#sk-container-id-4 div.sk-toggleable__content {max-height: 0;max-width: 0;overflow: hidden;text-align: left;background-color: #f0f8ff;}#sk-container-id-4 div.sk-toggleable__content pre {margin: 0.2em;color: black;border-radius: 0.25em;background-color: #f0f8ff;}#sk-container-id-4 input.sk-toggleable__control:checked~div.sk-toggleable__content {max-height: 200px;max-width: 100%;overflow: auto;}#sk-container-id-4 input.sk-toggleable__control:checked~label.sk-toggleable__label-arrow:before {content: \"▾\";}#sk-container-id-4 div.sk-estimator input.sk-toggleable__control:checked~label.sk-toggleable__label {background-color: #d4ebff;}#sk-container-id-4 div.sk-label input.sk-toggleable__control:checked~label.sk-toggleable__label {background-color: #d4ebff;}#sk-container-id-4 input.sk-hidden--visually {border: 0;clip: rect(1px 1px 1px 1px);clip: rect(1px, 1px, 1px, 1px);height: 1px;margin: -1px;overflow: hidden;padding: 0;position: absolute;width: 1px;}#sk-container-id-4 div.sk-estimator {font-family: monospace;background-color: #f0f8ff;border: 1px dotted black;border-radius: 0.25em;box-sizing: border-box;margin-bottom: 0.5em;}#sk-container-id-4 div.sk-estimator:hover {background-color: #d4ebff;}#sk-container-id-4 div.sk-parallel-item::after {content: \"\";width: 100%;border-bottom: 1px solid gray;flex-grow: 1;}#sk-container-id-4 div.sk-label:hover label.sk-toggleable__label {background-color: #d4ebff;}#sk-container-id-4 div.sk-serial::before {content: \"\";position: absolute;border-left: 1px solid gray;box-sizing: border-box;top: 0;bottom: 0;left: 50%;z-index: 0;}#sk-container-id-4 div.sk-serial {display: flex;flex-direction: column;align-items: center;background-color: white;padding-right: 0.2em;padding-left: 0.2em;position: relative;}#sk-container-id-4 div.sk-item {position: relative;z-index: 1;}#sk-container-id-4 div.sk-parallel {display: flex;align-items: stretch;justify-content: center;background-color: white;position: relative;}#sk-container-id-4 div.sk-item::before, #sk-container-id-4 div.sk-parallel-item::before {content: \"\";position: absolute;border-left: 1px solid gray;box-sizing: border-box;top: 0;bottom: 0;left: 50%;z-index: -1;}#sk-container-id-4 div.sk-parallel-item {display: flex;flex-direction: column;z-index: 1;position: relative;background-color: white;}#sk-container-id-4 div.sk-parallel-item:first-child::after {align-self: flex-end;width: 50%;}#sk-container-id-4 div.sk-parallel-item:last-child::after {align-self: flex-start;width: 50%;}#sk-container-id-4 div.sk-parallel-item:only-child::after {width: 0;}#sk-container-id-4 div.sk-dashed-wrapped {border: 1px dashed gray;margin: 0 0.4em 0.5em 0.4em;box-sizing: border-box;padding-bottom: 0.4em;background-color: white;}#sk-container-id-4 div.sk-label label {font-family: monospace;font-weight: bold;display: inline-block;line-height: 1.2em;}#sk-container-id-4 div.sk-label-container {text-align: center;}#sk-container-id-4 div.sk-container {/* jupyter's `normalize.less` sets `[hidden] { display: none; }` but bootstrap.min.css set `[hidden] { display: none !important; }` so we also need the `!important` here to be able to override the default hidden behavior on the sphinx rendered scikit-learn.org. See: https://github.com/scikit-learn/scikit-learn/issues/21755 */display: inline-block !important;position: relative;}#sk-container-id-4 div.sk-text-repr-fallback {display: none;}</style><div id=\"sk-container-id-4\" class=\"sk-top-container\"><div class=\"sk-text-repr-fallback\"><pre>SelectFromModel(estimator=Lasso(alpha=0.05, random_state=0))</pre><b>In a Jupyter environment, please rerun this cell to show the HTML representation or trust the notebook. <br />On GitHub, the HTML representation is unable to render, please try loading this page with nbviewer.org.</b></div><div class=\"sk-container\" hidden><div class=\"sk-item sk-dashed-wrapped\"><div class=\"sk-label-container\"><div class=\"sk-label sk-toggleable\"><input class=\"sk-toggleable__control sk-hidden--visually\" id=\"sk-estimator-id-8\" type=\"checkbox\" ><label for=\"sk-estimator-id-8\" class=\"sk-toggleable__label sk-toggleable__label-arrow\">SelectFromModel</label><div class=\"sk-toggleable__content\"><pre>SelectFromModel(estimator=Lasso(alpha=0.05, random_state=0))</pre></div></div></div><div class=\"sk-parallel\"><div class=\"sk-parallel-item\"><div class=\"sk-item\"><div class=\"sk-label-container\"><div class=\"sk-label sk-toggleable\"><input class=\"sk-toggleable__control sk-hidden--visually\" id=\"sk-estimator-id-9\" type=\"checkbox\" ><label for=\"sk-estimator-id-9\" class=\"sk-toggleable__label sk-toggleable__label-arrow\">estimator: Lasso</label><div class=\"sk-toggleable__content\"><pre>Lasso(alpha=0.05, random_state=0)</pre></div></div></div><div class=\"sk-serial\"><div class=\"sk-item\"><div class=\"sk-estimator sk-toggleable\"><input class=\"sk-toggleable__control sk-hidden--visually\" id=\"sk-estimator-id-10\" type=\"checkbox\" ><label for=\"sk-estimator-id-10\" class=\"sk-toggleable__label sk-toggleable__label-arrow\">Lasso</label><div class=\"sk-toggleable__content\"><pre>Lasso(alpha=0.05, random_state=0)</pre></div></div></div></div></div></div></div></div></div></div>"
            ]
          },
          "metadata": {},
          "execution_count": 31
        }
      ]
    },
    {
      "cell_type": "code",
      "source": [
        "feature_sel_model.get_support()"
      ],
      "metadata": {
        "colab": {
          "base_uri": "https://localhost:8080/"
        },
        "id": "s7aT4jubGvEk",
        "outputId": "e4170812-f2da-4028-c786-bdaeda3b88c3"
      },
      "execution_count": null,
      "outputs": [
        {
          "output_type": "execute_result",
          "data": {
            "text/plain": [
              "array([False,  True, False,  True,  True, False, False, False,  True,\n",
              "       False,  True,  True,  True, False,  True,  True, False,  True,\n",
              "        True, False, False, False,  True, False, False,  True,  True,\n",
              "       False, False,  True,  True,  True,  True, False,  True,  True,\n",
              "        True, False, False, False,  True,  True, False,  True,  True,\n",
              "       False,  True,  True,  True, False, False,  True, False, False,\n",
              "        True, False])"
            ]
          },
          "metadata": {},
          "execution_count": 32
        }
      ]
    },
    {
      "cell_type": "code",
      "source": [
        "selected_features = x_train.columns[(feature_sel_model.get_support())]\n",
        "print('Total no. of features  : {}'.format((x_train.shape[1])))\n",
        "print('No. of selected features : {}'.format(len(selected_features)))"
      ],
      "metadata": {
        "id": "y8AuvOcDG3Sm",
        "colab": {
          "base_uri": "https://localhost:8080/"
        },
        "outputId": "d57bdf75-d380-489a-f777-30fdd854d182"
      },
      "execution_count": null,
      "outputs": [
        {
          "output_type": "stream",
          "name": "stdout",
          "text": [
            "Total no. of features  : 56\n",
            "No. of selected features : 30\n"
          ]
        }
      ]
    },
    {
      "cell_type": "code",
      "source": [
        "print(selected_features)"
      ],
      "metadata": {
        "id": "dgvCozpqIOtm",
        "colab": {
          "base_uri": "https://localhost:8080/"
        },
        "outputId": "5e24735e-054a-4998-e012-12174f521d4c"
      },
      "execution_count": null,
      "outputs": [
        {
          "output_type": "stream",
          "name": "stdout",
          "text": [
            "Index(['AF', 'AH', 'AM', 'AR', 'AX', 'BC', 'BN', 'BP', 'BQ', 'BZ', 'CB', 'CC',\n",
            "       'CD ', 'CF', 'CL', 'CR', 'CS', 'CU', 'CW ', 'DA', 'DE', 'DF', 'DI',\n",
            "       'DL', 'DN', 'DU', 'DV', 'DY', 'EB', 'EE', 'EH', 'EL', 'EP', 'FC', 'FD ',\n",
            "       'FI', 'FL', 'FR', 'GB', 'GE', 'GH', 'GI'],\n",
            "      dtype='object')\n"
          ]
        }
      ]
    },
    {
      "cell_type": "code",
      "source": [],
      "metadata": {
        "id": "hbhmE-pPXN2_"
      },
      "execution_count": null,
      "outputs": []
    },
    {
      "cell_type": "code",
      "source": [
        "dataset.head()"
      ],
      "metadata": {
        "id": "dnQEpSSDMXMA"
      },
      "execution_count": null,
      "outputs": []
    },
    {
      "cell_type": "code",
      "source": [
        "new_df=dataset.drop(['Id','AH','AM','AR','AZ','BZ','CL','EH','EL','EU','FC','FS','GB','GI','GL','DUnan',\t'FCnan',\t'FLnan',\t'GLnan'],axis=1)"
      ],
      "metadata": {
        "id": "EEvU-vmnL2X2"
      },
      "execution_count": null,
      "outputs": []
    },
    {
      "cell_type": "code",
      "source": [
        "new_df.head()"
      ],
      "metadata": {
        "colab": {
          "base_uri": "https://localhost:8080/",
          "height": 299
        },
        "id": "SYGK3HSUQubG",
        "outputId": "fcbdebb4-0e68-42da-b880-66f7bca00114"
      },
      "execution_count": null,
      "outputs": [
        {
          "output_type": "execute_result",
          "data": {
            "text/plain": [
              "  EJ  Class        AB        AF        AX        AY        BC       BD   \\\n",
              "0  B      1 -0.572153 -0.170975 -1.900558 -0.083417 -0.038354 -0.405383   \n",
              "1  A      0 -0.709105 -1.097801 -0.750457 -0.083417 -0.104787  0.048541   \n",
              "2  B      0 -0.015212 -0.377169  0.465662 -0.083417 -0.104787 -0.071089   \n",
              "3  B      0 -0.480851  0.138196 -0.729610 -0.083417 -0.104787 -0.391109   \n",
              "4  B      1 -0.206946  0.100517 -0.628845 -0.013229  1.445139  0.125327   \n",
              "\n",
              "         BN        BP  ...        EG        EP       FD         FE        FI  \\\n",
              "0  0.339209 -0.302886  ... -0.166640 -0.387976  0.051544 -0.112922 -2.226608   \n",
              "1 -0.575174 -0.410427  ... -0.346584 -0.141038 -0.102520 -0.311056  0.084542   \n",
              "2  1.456789 -0.556635  ... -0.132589 -0.387976  0.028054 -0.173811  0.517060   \n",
              "3  0.644004  0.032419  ...  7.804389 -0.387976  0.014748  0.058201  1.617160   \n",
              "4  0.745602  0.507084  ... -0.183137 -0.191049 -0.041041  0.520331  1.212850   \n",
              "\n",
              "         FL        FR        GE        GF        GH  \n",
              "0  0.162355 -0.035806 -0.410260 -0.655511 -0.948991  \n",
              "1 -0.457909 -0.060566 -0.410260  0.687893 -0.238862  \n",
              "2  0.198170 -0.051023 -0.299210 -0.051850 -0.351743  \n",
              "3  0.059978 -0.060566 -0.342195 -0.650833  0.858232  \n",
              "4  0.236779  0.896815  0.099920 -0.318309  1.409422  \n",
              "\n",
              "[5 rows x 43 columns]"
            ],
            "text/html": [
              "\n",
              "  <div id=\"df-e73d1146-47f1-4ce7-b221-628c193d5772\">\n",
              "    <div class=\"colab-df-container\">\n",
              "      <div>\n",
              "<style scoped>\n",
              "    .dataframe tbody tr th:only-of-type {\n",
              "        vertical-align: middle;\n",
              "    }\n",
              "\n",
              "    .dataframe tbody tr th {\n",
              "        vertical-align: top;\n",
              "    }\n",
              "\n",
              "    .dataframe thead th {\n",
              "        text-align: right;\n",
              "    }\n",
              "</style>\n",
              "<table border=\"1\" class=\"dataframe\">\n",
              "  <thead>\n",
              "    <tr style=\"text-align: right;\">\n",
              "      <th></th>\n",
              "      <th>EJ</th>\n",
              "      <th>Class</th>\n",
              "      <th>AB</th>\n",
              "      <th>AF</th>\n",
              "      <th>AX</th>\n",
              "      <th>AY</th>\n",
              "      <th>BC</th>\n",
              "      <th>BD</th>\n",
              "      <th>BN</th>\n",
              "      <th>BP</th>\n",
              "      <th>...</th>\n",
              "      <th>EG</th>\n",
              "      <th>EP</th>\n",
              "      <th>FD</th>\n",
              "      <th>FE</th>\n",
              "      <th>FI</th>\n",
              "      <th>FL</th>\n",
              "      <th>FR</th>\n",
              "      <th>GE</th>\n",
              "      <th>GF</th>\n",
              "      <th>GH</th>\n",
              "    </tr>\n",
              "  </thead>\n",
              "  <tbody>\n",
              "    <tr>\n",
              "      <th>0</th>\n",
              "      <td>B</td>\n",
              "      <td>1</td>\n",
              "      <td>-0.572153</td>\n",
              "      <td>-0.170975</td>\n",
              "      <td>-1.900558</td>\n",
              "      <td>-0.083417</td>\n",
              "      <td>-0.038354</td>\n",
              "      <td>-0.405383</td>\n",
              "      <td>0.339209</td>\n",
              "      <td>-0.302886</td>\n",
              "      <td>...</td>\n",
              "      <td>-0.166640</td>\n",
              "      <td>-0.387976</td>\n",
              "      <td>0.051544</td>\n",
              "      <td>-0.112922</td>\n",
              "      <td>-2.226608</td>\n",
              "      <td>0.162355</td>\n",
              "      <td>-0.035806</td>\n",
              "      <td>-0.410260</td>\n",
              "      <td>-0.655511</td>\n",
              "      <td>-0.948991</td>\n",
              "    </tr>\n",
              "    <tr>\n",
              "      <th>1</th>\n",
              "      <td>A</td>\n",
              "      <td>0</td>\n",
              "      <td>-0.709105</td>\n",
              "      <td>-1.097801</td>\n",
              "      <td>-0.750457</td>\n",
              "      <td>-0.083417</td>\n",
              "      <td>-0.104787</td>\n",
              "      <td>0.048541</td>\n",
              "      <td>-0.575174</td>\n",
              "      <td>-0.410427</td>\n",
              "      <td>...</td>\n",
              "      <td>-0.346584</td>\n",
              "      <td>-0.141038</td>\n",
              "      <td>-0.102520</td>\n",
              "      <td>-0.311056</td>\n",
              "      <td>0.084542</td>\n",
              "      <td>-0.457909</td>\n",
              "      <td>-0.060566</td>\n",
              "      <td>-0.410260</td>\n",
              "      <td>0.687893</td>\n",
              "      <td>-0.238862</td>\n",
              "    </tr>\n",
              "    <tr>\n",
              "      <th>2</th>\n",
              "      <td>B</td>\n",
              "      <td>0</td>\n",
              "      <td>-0.015212</td>\n",
              "      <td>-0.377169</td>\n",
              "      <td>0.465662</td>\n",
              "      <td>-0.083417</td>\n",
              "      <td>-0.104787</td>\n",
              "      <td>-0.071089</td>\n",
              "      <td>1.456789</td>\n",
              "      <td>-0.556635</td>\n",
              "      <td>...</td>\n",
              "      <td>-0.132589</td>\n",
              "      <td>-0.387976</td>\n",
              "      <td>0.028054</td>\n",
              "      <td>-0.173811</td>\n",
              "      <td>0.517060</td>\n",
              "      <td>0.198170</td>\n",
              "      <td>-0.051023</td>\n",
              "      <td>-0.299210</td>\n",
              "      <td>-0.051850</td>\n",
              "      <td>-0.351743</td>\n",
              "    </tr>\n",
              "    <tr>\n",
              "      <th>3</th>\n",
              "      <td>B</td>\n",
              "      <td>0</td>\n",
              "      <td>-0.480851</td>\n",
              "      <td>0.138196</td>\n",
              "      <td>-0.729610</td>\n",
              "      <td>-0.083417</td>\n",
              "      <td>-0.104787</td>\n",
              "      <td>-0.391109</td>\n",
              "      <td>0.644004</td>\n",
              "      <td>0.032419</td>\n",
              "      <td>...</td>\n",
              "      <td>7.804389</td>\n",
              "      <td>-0.387976</td>\n",
              "      <td>0.014748</td>\n",
              "      <td>0.058201</td>\n",
              "      <td>1.617160</td>\n",
              "      <td>0.059978</td>\n",
              "      <td>-0.060566</td>\n",
              "      <td>-0.342195</td>\n",
              "      <td>-0.650833</td>\n",
              "      <td>0.858232</td>\n",
              "    </tr>\n",
              "    <tr>\n",
              "      <th>4</th>\n",
              "      <td>B</td>\n",
              "      <td>1</td>\n",
              "      <td>-0.206946</td>\n",
              "      <td>0.100517</td>\n",
              "      <td>-0.628845</td>\n",
              "      <td>-0.013229</td>\n",
              "      <td>1.445139</td>\n",
              "      <td>0.125327</td>\n",
              "      <td>0.745602</td>\n",
              "      <td>0.507084</td>\n",
              "      <td>...</td>\n",
              "      <td>-0.183137</td>\n",
              "      <td>-0.191049</td>\n",
              "      <td>-0.041041</td>\n",
              "      <td>0.520331</td>\n",
              "      <td>1.212850</td>\n",
              "      <td>0.236779</td>\n",
              "      <td>0.896815</td>\n",
              "      <td>0.099920</td>\n",
              "      <td>-0.318309</td>\n",
              "      <td>1.409422</td>\n",
              "    </tr>\n",
              "  </tbody>\n",
              "</table>\n",
              "<p>5 rows × 43 columns</p>\n",
              "</div>\n",
              "      <button class=\"colab-df-convert\" onclick=\"convertToInteractive('df-e73d1146-47f1-4ce7-b221-628c193d5772')\"\n",
              "              title=\"Convert this dataframe to an interactive table.\"\n",
              "              style=\"display:none;\">\n",
              "        \n",
              "  <svg xmlns=\"http://www.w3.org/2000/svg\" height=\"24px\"viewBox=\"0 0 24 24\"\n",
              "       width=\"24px\">\n",
              "    <path d=\"M0 0h24v24H0V0z\" fill=\"none\"/>\n",
              "    <path d=\"M18.56 5.44l.94 2.06.94-2.06 2.06-.94-2.06-.94-.94-2.06-.94 2.06-2.06.94zm-11 1L8.5 8.5l.94-2.06 2.06-.94-2.06-.94L8.5 2.5l-.94 2.06-2.06.94zm10 10l.94 2.06.94-2.06 2.06-.94-2.06-.94-.94-2.06-.94 2.06-2.06.94z\"/><path d=\"M17.41 7.96l-1.37-1.37c-.4-.4-.92-.59-1.43-.59-.52 0-1.04.2-1.43.59L10.3 9.45l-7.72 7.72c-.78.78-.78 2.05 0 2.83L4 21.41c.39.39.9.59 1.41.59.51 0 1.02-.2 1.41-.59l7.78-7.78 2.81-2.81c.8-.78.8-2.07 0-2.86zM5.41 20L4 18.59l7.72-7.72 1.47 1.35L5.41 20z\"/>\n",
              "  </svg>\n",
              "      </button>\n",
              "      \n",
              "  <style>\n",
              "    .colab-df-container {\n",
              "      display:flex;\n",
              "      flex-wrap:wrap;\n",
              "      gap: 12px;\n",
              "    }\n",
              "\n",
              "    .colab-df-convert {\n",
              "      background-color: #E8F0FE;\n",
              "      border: none;\n",
              "      border-radius: 50%;\n",
              "      cursor: pointer;\n",
              "      display: none;\n",
              "      fill: #1967D2;\n",
              "      height: 32px;\n",
              "      padding: 0 0 0 0;\n",
              "      width: 32px;\n",
              "    }\n",
              "\n",
              "    .colab-df-convert:hover {\n",
              "      background-color: #E2EBFA;\n",
              "      box-shadow: 0px 1px 2px rgba(60, 64, 67, 0.3), 0px 1px 3px 1px rgba(60, 64, 67, 0.15);\n",
              "      fill: #174EA6;\n",
              "    }\n",
              "\n",
              "    [theme=dark] .colab-df-convert {\n",
              "      background-color: #3B4455;\n",
              "      fill: #D2E3FC;\n",
              "    }\n",
              "\n",
              "    [theme=dark] .colab-df-convert:hover {\n",
              "      background-color: #434B5C;\n",
              "      box-shadow: 0px 1px 3px 1px rgba(0, 0, 0, 0.15);\n",
              "      filter: drop-shadow(0px 1px 2px rgba(0, 0, 0, 0.3));\n",
              "      fill: #FFFFFF;\n",
              "    }\n",
              "  </style>\n",
              "\n",
              "      <script>\n",
              "        const buttonEl =\n",
              "          document.querySelector('#df-e73d1146-47f1-4ce7-b221-628c193d5772 button.colab-df-convert');\n",
              "        buttonEl.style.display =\n",
              "          google.colab.kernel.accessAllowed ? 'block' : 'none';\n",
              "\n",
              "        async function convertToInteractive(key) {\n",
              "          const element = document.querySelector('#df-e73d1146-47f1-4ce7-b221-628c193d5772');\n",
              "          const dataTable =\n",
              "            await google.colab.kernel.invokeFunction('convertToInteractive',\n",
              "                                                     [key], {});\n",
              "          if (!dataTable) return;\n",
              "\n",
              "          const docLinkHtml = 'Like what you see? Visit the ' +\n",
              "            '<a target=\"_blank\" href=https://colab.research.google.com/notebooks/data_table.ipynb>data table notebook</a>'\n",
              "            + ' to learn more about interactive tables.';\n",
              "          element.innerHTML = '';\n",
              "          dataTable['output_type'] = 'display_data';\n",
              "          await google.colab.output.renderOutput(dataTable, element);\n",
              "          const docLink = document.createElement('div');\n",
              "          docLink.innerHTML = docLinkHtml;\n",
              "          element.appendChild(docLink);\n",
              "        }\n",
              "      </script>\n",
              "    </div>\n",
              "  </div>\n",
              "  "
            ]
          },
          "metadata": {},
          "execution_count": 18
        }
      ]
    },
    {
      "cell_type": "code",
      "source": [
        "new_df['EJ']= LabelEncoder().fit_transform(new_df['EJ'])"
      ],
      "metadata": {
        "id": "RYJrOafjInaR"
      },
      "execution_count": null,
      "outputs": []
    },
    {
      "cell_type": "code",
      "source": [
        "x= new_df.iloc [:, [0] + list(range(2, new_df.shape[1])) ] # ” : ” means it will select all rows,    “: -1 ” means that it will ignore last column\n",
        "y= new_df.iloc [:, [1] ] # ” : ” means it will select all rows,    “-1 : ” means that it will ignore all columns except the last one\n",
        "\n",
        "X_train, X_test, y_train, y_test = train_test_split(x,y,test_size=0.2, random_state=2)\n",
        "\n"
      ],
      "metadata": {
        "id": "t0-DBro4GJOH"
      },
      "execution_count": null,
      "outputs": []
    },
    {
      "cell_type": "code",
      "source": [
        "X_train.head()"
      ],
      "metadata": {
        "id": "4rQ7XGYSGnyi"
      },
      "execution_count": null,
      "outputs": []
    },
    {
      "cell_type": "code",
      "source": [
        "y_train.head()"
      ],
      "metadata": {
        "id": "7n1G7FTFSRO9"
      },
      "execution_count": null,
      "outputs": []
    },
    {
      "cell_type": "code",
      "source": [
        "X_train.shape\n",
        "X_test.shape"
      ],
      "metadata": {
        "id": "X7x-n-kMHAaf"
      },
      "execution_count": null,
      "outputs": []
    },
    {
      "cell_type": "code",
      "source": [
        "import lazypredict\n",
        "from lazypredict.Supervised import LazyClassifier"
      ],
      "metadata": {
        "id": "-vkXRsiTK8QT"
      },
      "execution_count": null,
      "outputs": []
    },
    {
      "cell_type": "code",
      "source": [
        "clf = LazyClassifier(verbose=0,ignore_warnings = True)\n",
        "models,predictions = clf.fit(X_train,X_test,y_train,y_test)"
      ],
      "metadata": {
        "id": "hm2jY-lYLJQa"
      },
      "execution_count": null,
      "outputs": []
    },
    {
      "cell_type": "code",
      "source": [
        "models"
      ],
      "metadata": {
        "id": "S9JGJG1ILhi4"
      },
      "execution_count": null,
      "outputs": []
    },
    {
      "cell_type": "code",
      "source": [
        "predictions"
      ],
      "metadata": {
        "id": "uIip8DlhQYDw"
      },
      "execution_count": null,
      "outputs": []
    },
    {
      "cell_type": "code",
      "source": [
        "import xgboost as xgb"
      ],
      "metadata": {
        "id": "xXRg2OgeQfQq"
      },
      "execution_count": null,
      "outputs": []
    },
    {
      "cell_type": "code",
      "source": [
        "dtrain = xgb.DMatrix(X_train, label=y_train)\n",
        "dtest = xgb.DMatrix(X_test , label=y_test)"
      ],
      "metadata": {
        "id": "gbM0-rzaQZNY"
      },
      "execution_count": null,
      "outputs": []
    },
    {
      "cell_type": "code",
      "source": [
        "params = {\n",
        "    'objective': 'binary:logistic',\n",
        "    'max_depth': 3,\n",
        "    'learning_rate': 0.1,\n",
        "    'eval_metric': 'logloss',\n",
        "    'seed': 42,\n",
        "    'colsample_bytree':1\n",
        "}"
      ],
      "metadata": {
        "id": "QMyLPmYTMTZU"
      },
      "execution_count": null,
      "outputs": []
    },
    {
      "cell_type": "code",
      "source": [
        "num_rounds = 100\n",
        "model = xgb.train(params, dtrain, num_rounds)"
      ],
      "metadata": {
        "id": "Lv58n57PMdT1"
      },
      "execution_count": null,
      "outputs": []
    },
    {
      "cell_type": "code",
      "source": [
        "y_pred = model.predict(dtest)"
      ],
      "metadata": {
        "id": "nu0eor_jMhj6"
      },
      "execution_count": null,
      "outputs": []
    },
    {
      "cell_type": "code",
      "source": [
        "y_pred_binary = [1 if p >= 0.5 else 0 for p in y_pred]\n",
        "\n",
        "accuracy = accuracy_score(y_test, y_pred_binary)\n",
        "print(\"Accuracy: %.2f%%\" % (accuracy * 100.0))"
      ],
      "metadata": {
        "colab": {
          "base_uri": "https://localhost:8080/"
        },
        "id": "-EjaqIoLMnTF",
        "outputId": "8bc69edd-4c7c-4f25-8a52-d62e2e9c6f05"
      },
      "execution_count": null,
      "outputs": [
        {
          "output_type": "stream",
          "name": "stdout",
          "text": [
            "Accuracy: 92.74%\n"
          ]
        }
      ]
    },
    {
      "cell_type": "code",
      "source": [
        "test_data.head()"
      ],
      "metadata": {
        "colab": {
          "base_uri": "https://localhost:8080/",
          "height": 299
        },
        "id": "xt7MziPcte7f",
        "outputId": "0db54935-a7dc-4930-801f-fb1919c08bcc"
      },
      "execution_count": null,
      "outputs": [
        {
          "output_type": "execute_result",
          "data": {
            "text/plain": [
              "   EJ        AB        AF        AX        AY        BC       BD         BN  \\\n",
              "0   0 -1.019531 -1.523636 -2.175054 -0.144832 -0.123675 -1.772311 -6.163071   \n",
              "1   0 -1.019531 -1.523636 -2.175054 -0.144832 -0.123675 -1.772311 -6.163071   \n",
              "2   0 -1.019531 -1.523636 -2.175054 -0.144832 -0.123675 -1.772311 -6.163071   \n",
              "3   0 -1.019531 -1.523636 -2.175054 -0.144832 -0.123675 -1.772311 -6.163071   \n",
              "4   0 -1.019531 -1.523636 -2.175054 -0.144832 -0.123675 -1.772311 -6.163071   \n",
              "\n",
              "         BP        BQ  ...       EG        EP       FD         FE        FI  \\\n",
              "0 -1.258257 -1.027457  ... -0.96784 -1.536197 -0.107108 -0.910326 -3.448942   \n",
              "1 -1.258257 -1.027457  ... -0.96784 -1.536197 -0.107108 -0.910326 -3.448942   \n",
              "2 -1.258257 -1.027457  ... -0.96784 -1.536197 -0.107108 -0.910326 -3.448942   \n",
              "3 -1.258257 -1.027457  ... -0.96784 -1.536197 -0.107108 -0.910326 -3.448942   \n",
              "4 -1.258257 -1.027457  ... -0.96784 -1.536197 -0.107108 -0.910326 -3.448942   \n",
              "\n",
              "        FL        FR        GE        GF        GH  \n",
              "0 -0.47299 -0.070479 -0.914277 -0.759135 -3.194901  \n",
              "1 -0.47299 -0.070479 -0.914277 -0.759135 -3.194901  \n",
              "2 -0.47299 -0.070479 -0.914277 -0.759135 -3.194901  \n",
              "3 -0.47299 -0.070479 -0.914277 -0.759135 -3.194901  \n",
              "4 -0.47299 -0.070479 -0.914277 -0.759135 -3.194901  \n",
              "\n",
              "[5 rows x 42 columns]"
            ],
            "text/html": [
              "\n",
              "  <div id=\"df-a72e8831-4048-433a-8add-bbccd0ba18d7\">\n",
              "    <div class=\"colab-df-container\">\n",
              "      <div>\n",
              "<style scoped>\n",
              "    .dataframe tbody tr th:only-of-type {\n",
              "        vertical-align: middle;\n",
              "    }\n",
              "\n",
              "    .dataframe tbody tr th {\n",
              "        vertical-align: top;\n",
              "    }\n",
              "\n",
              "    .dataframe thead th {\n",
              "        text-align: right;\n",
              "    }\n",
              "</style>\n",
              "<table border=\"1\" class=\"dataframe\">\n",
              "  <thead>\n",
              "    <tr style=\"text-align: right;\">\n",
              "      <th></th>\n",
              "      <th>EJ</th>\n",
              "      <th>AB</th>\n",
              "      <th>AF</th>\n",
              "      <th>AX</th>\n",
              "      <th>AY</th>\n",
              "      <th>BC</th>\n",
              "      <th>BD</th>\n",
              "      <th>BN</th>\n",
              "      <th>BP</th>\n",
              "      <th>BQ</th>\n",
              "      <th>...</th>\n",
              "      <th>EG</th>\n",
              "      <th>EP</th>\n",
              "      <th>FD</th>\n",
              "      <th>FE</th>\n",
              "      <th>FI</th>\n",
              "      <th>FL</th>\n",
              "      <th>FR</th>\n",
              "      <th>GE</th>\n",
              "      <th>GF</th>\n",
              "      <th>GH</th>\n",
              "    </tr>\n",
              "  </thead>\n",
              "  <tbody>\n",
              "    <tr>\n",
              "      <th>0</th>\n",
              "      <td>0</td>\n",
              "      <td>-1.019531</td>\n",
              "      <td>-1.523636</td>\n",
              "      <td>-2.175054</td>\n",
              "      <td>-0.144832</td>\n",
              "      <td>-0.123675</td>\n",
              "      <td>-1.772311</td>\n",
              "      <td>-6.163071</td>\n",
              "      <td>-1.258257</td>\n",
              "      <td>-1.027457</td>\n",
              "      <td>...</td>\n",
              "      <td>-0.96784</td>\n",
              "      <td>-1.536197</td>\n",
              "      <td>-0.107108</td>\n",
              "      <td>-0.910326</td>\n",
              "      <td>-3.448942</td>\n",
              "      <td>-0.47299</td>\n",
              "      <td>-0.070479</td>\n",
              "      <td>-0.914277</td>\n",
              "      <td>-0.759135</td>\n",
              "      <td>-3.194901</td>\n",
              "    </tr>\n",
              "    <tr>\n",
              "      <th>1</th>\n",
              "      <td>0</td>\n",
              "      <td>-1.019531</td>\n",
              "      <td>-1.523636</td>\n",
              "      <td>-2.175054</td>\n",
              "      <td>-0.144832</td>\n",
              "      <td>-0.123675</td>\n",
              "      <td>-1.772311</td>\n",
              "      <td>-6.163071</td>\n",
              "      <td>-1.258257</td>\n",
              "      <td>-1.027457</td>\n",
              "      <td>...</td>\n",
              "      <td>-0.96784</td>\n",
              "      <td>-1.536197</td>\n",
              "      <td>-0.107108</td>\n",
              "      <td>-0.910326</td>\n",
              "      <td>-3.448942</td>\n",
              "      <td>-0.47299</td>\n",
              "      <td>-0.070479</td>\n",
              "      <td>-0.914277</td>\n",
              "      <td>-0.759135</td>\n",
              "      <td>-3.194901</td>\n",
              "    </tr>\n",
              "    <tr>\n",
              "      <th>2</th>\n",
              "      <td>0</td>\n",
              "      <td>-1.019531</td>\n",
              "      <td>-1.523636</td>\n",
              "      <td>-2.175054</td>\n",
              "      <td>-0.144832</td>\n",
              "      <td>-0.123675</td>\n",
              "      <td>-1.772311</td>\n",
              "      <td>-6.163071</td>\n",
              "      <td>-1.258257</td>\n",
              "      <td>-1.027457</td>\n",
              "      <td>...</td>\n",
              "      <td>-0.96784</td>\n",
              "      <td>-1.536197</td>\n",
              "      <td>-0.107108</td>\n",
              "      <td>-0.910326</td>\n",
              "      <td>-3.448942</td>\n",
              "      <td>-0.47299</td>\n",
              "      <td>-0.070479</td>\n",
              "      <td>-0.914277</td>\n",
              "      <td>-0.759135</td>\n",
              "      <td>-3.194901</td>\n",
              "    </tr>\n",
              "    <tr>\n",
              "      <th>3</th>\n",
              "      <td>0</td>\n",
              "      <td>-1.019531</td>\n",
              "      <td>-1.523636</td>\n",
              "      <td>-2.175054</td>\n",
              "      <td>-0.144832</td>\n",
              "      <td>-0.123675</td>\n",
              "      <td>-1.772311</td>\n",
              "      <td>-6.163071</td>\n",
              "      <td>-1.258257</td>\n",
              "      <td>-1.027457</td>\n",
              "      <td>...</td>\n",
              "      <td>-0.96784</td>\n",
              "      <td>-1.536197</td>\n",
              "      <td>-0.107108</td>\n",
              "      <td>-0.910326</td>\n",
              "      <td>-3.448942</td>\n",
              "      <td>-0.47299</td>\n",
              "      <td>-0.070479</td>\n",
              "      <td>-0.914277</td>\n",
              "      <td>-0.759135</td>\n",
              "      <td>-3.194901</td>\n",
              "    </tr>\n",
              "    <tr>\n",
              "      <th>4</th>\n",
              "      <td>0</td>\n",
              "      <td>-1.019531</td>\n",
              "      <td>-1.523636</td>\n",
              "      <td>-2.175054</td>\n",
              "      <td>-0.144832</td>\n",
              "      <td>-0.123675</td>\n",
              "      <td>-1.772311</td>\n",
              "      <td>-6.163071</td>\n",
              "      <td>-1.258257</td>\n",
              "      <td>-1.027457</td>\n",
              "      <td>...</td>\n",
              "      <td>-0.96784</td>\n",
              "      <td>-1.536197</td>\n",
              "      <td>-0.107108</td>\n",
              "      <td>-0.910326</td>\n",
              "      <td>-3.448942</td>\n",
              "      <td>-0.47299</td>\n",
              "      <td>-0.070479</td>\n",
              "      <td>-0.914277</td>\n",
              "      <td>-0.759135</td>\n",
              "      <td>-3.194901</td>\n",
              "    </tr>\n",
              "  </tbody>\n",
              "</table>\n",
              "<p>5 rows × 42 columns</p>\n",
              "</div>\n",
              "      <button class=\"colab-df-convert\" onclick=\"convertToInteractive('df-a72e8831-4048-433a-8add-bbccd0ba18d7')\"\n",
              "              title=\"Convert this dataframe to an interactive table.\"\n",
              "              style=\"display:none;\">\n",
              "        \n",
              "  <svg xmlns=\"http://www.w3.org/2000/svg\" height=\"24px\"viewBox=\"0 0 24 24\"\n",
              "       width=\"24px\">\n",
              "    <path d=\"M0 0h24v24H0V0z\" fill=\"none\"/>\n",
              "    <path d=\"M18.56 5.44l.94 2.06.94-2.06 2.06-.94-2.06-.94-.94-2.06-.94 2.06-2.06.94zm-11 1L8.5 8.5l.94-2.06 2.06-.94-2.06-.94L8.5 2.5l-.94 2.06-2.06.94zm10 10l.94 2.06.94-2.06 2.06-.94-2.06-.94-.94-2.06-.94 2.06-2.06.94z\"/><path d=\"M17.41 7.96l-1.37-1.37c-.4-.4-.92-.59-1.43-.59-.52 0-1.04.2-1.43.59L10.3 9.45l-7.72 7.72c-.78.78-.78 2.05 0 2.83L4 21.41c.39.39.9.59 1.41.59.51 0 1.02-.2 1.41-.59l7.78-7.78 2.81-2.81c.8-.78.8-2.07 0-2.86zM5.41 20L4 18.59l7.72-7.72 1.47 1.35L5.41 20z\"/>\n",
              "  </svg>\n",
              "      </button>\n",
              "      \n",
              "  <style>\n",
              "    .colab-df-container {\n",
              "      display:flex;\n",
              "      flex-wrap:wrap;\n",
              "      gap: 12px;\n",
              "    }\n",
              "\n",
              "    .colab-df-convert {\n",
              "      background-color: #E8F0FE;\n",
              "      border: none;\n",
              "      border-radius: 50%;\n",
              "      cursor: pointer;\n",
              "      display: none;\n",
              "      fill: #1967D2;\n",
              "      height: 32px;\n",
              "      padding: 0 0 0 0;\n",
              "      width: 32px;\n",
              "    }\n",
              "\n",
              "    .colab-df-convert:hover {\n",
              "      background-color: #E2EBFA;\n",
              "      box-shadow: 0px 1px 2px rgba(60, 64, 67, 0.3), 0px 1px 3px 1px rgba(60, 64, 67, 0.15);\n",
              "      fill: #174EA6;\n",
              "    }\n",
              "\n",
              "    [theme=dark] .colab-df-convert {\n",
              "      background-color: #3B4455;\n",
              "      fill: #D2E3FC;\n",
              "    }\n",
              "\n",
              "    [theme=dark] .colab-df-convert:hover {\n",
              "      background-color: #434B5C;\n",
              "      box-shadow: 0px 1px 3px 1px rgba(0, 0, 0, 0.15);\n",
              "      filter: drop-shadow(0px 1px 2px rgba(0, 0, 0, 0.3));\n",
              "      fill: #FFFFFF;\n",
              "    }\n",
              "  </style>\n",
              "\n",
              "      <script>\n",
              "        const buttonEl =\n",
              "          document.querySelector('#df-a72e8831-4048-433a-8add-bbccd0ba18d7 button.colab-df-convert');\n",
              "        buttonEl.style.display =\n",
              "          google.colab.kernel.accessAllowed ? 'block' : 'none';\n",
              "\n",
              "        async function convertToInteractive(key) {\n",
              "          const element = document.querySelector('#df-a72e8831-4048-433a-8add-bbccd0ba18d7');\n",
              "          const dataTable =\n",
              "            await google.colab.kernel.invokeFunction('convertToInteractive',\n",
              "                                                     [key], {});\n",
              "          if (!dataTable) return;\n",
              "\n",
              "          const docLinkHtml = 'Like what you see? Visit the ' +\n",
              "            '<a target=\"_blank\" href=https://colab.research.google.com/notebooks/data_table.ipynb>data table notebook</a>'\n",
              "            + ' to learn more about interactive tables.';\n",
              "          element.innerHTML = '';\n",
              "          dataTable['output_type'] = 'display_data';\n",
              "          await google.colab.output.renderOutput(dataTable, element);\n",
              "          const docLink = document.createElement('div');\n",
              "          docLink.innerHTML = docLinkHtml;\n",
              "          element.appendChild(docLink);\n",
              "        }\n",
              "      </script>\n",
              "    </div>\n",
              "  </div>\n",
              "  "
            ]
          },
          "metadata": {},
          "execution_count": 129
        }
      ]
    },
    {
      "cell_type": "code",
      "source": [
        "label= test_data.shape[0]\n",
        "dval = xgb.DMatrix(test_data, np.zeros(label))"
      ],
      "metadata": {
        "id": "IpZ8gcMHtNvT"
      },
      "execution_count": null,
      "outputs": []
    },
    {
      "cell_type": "code",
      "source": [
        "pred=model.predict(dval)"
      ],
      "metadata": {
        "id": "zdIdehcBtN3g"
      },
      "execution_count": null,
      "outputs": []
    },
    {
      "cell_type": "code",
      "source": [
        "pred=pred.astype(float)\n",
        "pred.resize(label,1)\n",
        "pred.shape"
      ],
      "metadata": {
        "colab": {
          "base_uri": "https://localhost:8080/"
        },
        "id": "3hz2eRH-tN5e",
        "outputId": "8587ad61-0fed-4669-96e1-680c9b5d351c"
      },
      "execution_count": null,
      "outputs": [
        {
          "output_type": "execute_result",
          "data": {
            "text/plain": [
              "(5, 1)"
            ]
          },
          "metadata": {},
          "execution_count": 132
        }
      ]
    },
    {
      "cell_type": "code",
      "source": [
        "sample_sub[['class_1']]=pred"
      ],
      "metadata": {
        "id": "vAAzOJdft7Et"
      },
      "execution_count": null,
      "outputs": []
    },
    {
      "cell_type": "code",
      "source": [
        "sample_sub[['class_0']]=1-pred"
      ],
      "metadata": {
        "id": "s_p6cJcwt7IR"
      },
      "execution_count": null,
      "outputs": []
    },
    {
      "cell_type": "code",
      "source": [
        "sample_sub"
      ],
      "metadata": {
        "colab": {
          "base_uri": "https://localhost:8080/",
          "height": 206
        },
        "id": "dNTdb8PZtN88",
        "outputId": "4a1d41a1-6831-4008-d5c8-aac0a3105bb6"
      },
      "execution_count": null,
      "outputs": [
        {
          "output_type": "execute_result",
          "data": {
            "text/plain": [
              "             Id   class_0   class_1\n",
              "0  00eed32682bb  0.480904  0.519096\n",
              "1  010ebe33f668  0.480904  0.519096\n",
              "2  02fa521e1838  0.480904  0.519096\n",
              "3  040e15f562a2  0.480904  0.519096\n",
              "4  046e85c7cc7f  0.480904  0.519096"
            ],
            "text/html": [
              "\n",
              "  <div id=\"df-a980efc1-02f9-4fe3-b2bb-04e01c1de13f\">\n",
              "    <div class=\"colab-df-container\">\n",
              "      <div>\n",
              "<style scoped>\n",
              "    .dataframe tbody tr th:only-of-type {\n",
              "        vertical-align: middle;\n",
              "    }\n",
              "\n",
              "    .dataframe tbody tr th {\n",
              "        vertical-align: top;\n",
              "    }\n",
              "\n",
              "    .dataframe thead th {\n",
              "        text-align: right;\n",
              "    }\n",
              "</style>\n",
              "<table border=\"1\" class=\"dataframe\">\n",
              "  <thead>\n",
              "    <tr style=\"text-align: right;\">\n",
              "      <th></th>\n",
              "      <th>Id</th>\n",
              "      <th>class_0</th>\n",
              "      <th>class_1</th>\n",
              "    </tr>\n",
              "  </thead>\n",
              "  <tbody>\n",
              "    <tr>\n",
              "      <th>0</th>\n",
              "      <td>00eed32682bb</td>\n",
              "      <td>0.480904</td>\n",
              "      <td>0.519096</td>\n",
              "    </tr>\n",
              "    <tr>\n",
              "      <th>1</th>\n",
              "      <td>010ebe33f668</td>\n",
              "      <td>0.480904</td>\n",
              "      <td>0.519096</td>\n",
              "    </tr>\n",
              "    <tr>\n",
              "      <th>2</th>\n",
              "      <td>02fa521e1838</td>\n",
              "      <td>0.480904</td>\n",
              "      <td>0.519096</td>\n",
              "    </tr>\n",
              "    <tr>\n",
              "      <th>3</th>\n",
              "      <td>040e15f562a2</td>\n",
              "      <td>0.480904</td>\n",
              "      <td>0.519096</td>\n",
              "    </tr>\n",
              "    <tr>\n",
              "      <th>4</th>\n",
              "      <td>046e85c7cc7f</td>\n",
              "      <td>0.480904</td>\n",
              "      <td>0.519096</td>\n",
              "    </tr>\n",
              "  </tbody>\n",
              "</table>\n",
              "</div>\n",
              "      <button class=\"colab-df-convert\" onclick=\"convertToInteractive('df-a980efc1-02f9-4fe3-b2bb-04e01c1de13f')\"\n",
              "              title=\"Convert this dataframe to an interactive table.\"\n",
              "              style=\"display:none;\">\n",
              "        \n",
              "  <svg xmlns=\"http://www.w3.org/2000/svg\" height=\"24px\"viewBox=\"0 0 24 24\"\n",
              "       width=\"24px\">\n",
              "    <path d=\"M0 0h24v24H0V0z\" fill=\"none\"/>\n",
              "    <path d=\"M18.56 5.44l.94 2.06.94-2.06 2.06-.94-2.06-.94-.94-2.06-.94 2.06-2.06.94zm-11 1L8.5 8.5l.94-2.06 2.06-.94-2.06-.94L8.5 2.5l-.94 2.06-2.06.94zm10 10l.94 2.06.94-2.06 2.06-.94-2.06-.94-.94-2.06-.94 2.06-2.06.94z\"/><path d=\"M17.41 7.96l-1.37-1.37c-.4-.4-.92-.59-1.43-.59-.52 0-1.04.2-1.43.59L10.3 9.45l-7.72 7.72c-.78.78-.78 2.05 0 2.83L4 21.41c.39.39.9.59 1.41.59.51 0 1.02-.2 1.41-.59l7.78-7.78 2.81-2.81c.8-.78.8-2.07 0-2.86zM5.41 20L4 18.59l7.72-7.72 1.47 1.35L5.41 20z\"/>\n",
              "  </svg>\n",
              "      </button>\n",
              "      \n",
              "  <style>\n",
              "    .colab-df-container {\n",
              "      display:flex;\n",
              "      flex-wrap:wrap;\n",
              "      gap: 12px;\n",
              "    }\n",
              "\n",
              "    .colab-df-convert {\n",
              "      background-color: #E8F0FE;\n",
              "      border: none;\n",
              "      border-radius: 50%;\n",
              "      cursor: pointer;\n",
              "      display: none;\n",
              "      fill: #1967D2;\n",
              "      height: 32px;\n",
              "      padding: 0 0 0 0;\n",
              "      width: 32px;\n",
              "    }\n",
              "\n",
              "    .colab-df-convert:hover {\n",
              "      background-color: #E2EBFA;\n",
              "      box-shadow: 0px 1px 2px rgba(60, 64, 67, 0.3), 0px 1px 3px 1px rgba(60, 64, 67, 0.15);\n",
              "      fill: #174EA6;\n",
              "    }\n",
              "\n",
              "    [theme=dark] .colab-df-convert {\n",
              "      background-color: #3B4455;\n",
              "      fill: #D2E3FC;\n",
              "    }\n",
              "\n",
              "    [theme=dark] .colab-df-convert:hover {\n",
              "      background-color: #434B5C;\n",
              "      box-shadow: 0px 1px 3px 1px rgba(0, 0, 0, 0.15);\n",
              "      filter: drop-shadow(0px 1px 2px rgba(0, 0, 0, 0.3));\n",
              "      fill: #FFFFFF;\n",
              "    }\n",
              "  </style>\n",
              "\n",
              "      <script>\n",
              "        const buttonEl =\n",
              "          document.querySelector('#df-a980efc1-02f9-4fe3-b2bb-04e01c1de13f button.colab-df-convert');\n",
              "        buttonEl.style.display =\n",
              "          google.colab.kernel.accessAllowed ? 'block' : 'none';\n",
              "\n",
              "        async function convertToInteractive(key) {\n",
              "          const element = document.querySelector('#df-a980efc1-02f9-4fe3-b2bb-04e01c1de13f');\n",
              "          const dataTable =\n",
              "            await google.colab.kernel.invokeFunction('convertToInteractive',\n",
              "                                                     [key], {});\n",
              "          if (!dataTable) return;\n",
              "\n",
              "          const docLinkHtml = 'Like what you see? Visit the ' +\n",
              "            '<a target=\"_blank\" href=https://colab.research.google.com/notebooks/data_table.ipynb>data table notebook</a>'\n",
              "            + ' to learn more about interactive tables.';\n",
              "          element.innerHTML = '';\n",
              "          dataTable['output_type'] = 'display_data';\n",
              "          await google.colab.output.renderOutput(dataTable, element);\n",
              "          const docLink = document.createElement('div');\n",
              "          docLink.innerHTML = docLinkHtml;\n",
              "          element.appendChild(docLink);\n",
              "        }\n",
              "      </script>\n",
              "    </div>\n",
              "  </div>\n",
              "  "
            ]
          },
          "metadata": {},
          "execution_count": 135
        }
      ]
    },
    {
      "cell_type": "code",
      "source": [
        "from sklearn.tree import DecisionTreeClassifier\n",
        "from sklearn.model_selection import GridSearchCV"
      ],
      "metadata": {
        "id": "3SAiadbHM5Vt"
      },
      "execution_count": null,
      "outputs": []
    },
    {
      "cell_type": "code",
      "source": [
        "param_grid = {\n",
        "    'criterion': ['gini', 'entropy'],\n",
        "    'max_depth': [None,3,4, 5,6,7,8,9, 10,11,12,13,14, 15],\n",
        "    'min_samples_split': [2,3,4, 5,6,7,8,9,10],\n",
        "    'min_samples_leaf': [1, 2,3, 4,5],\n",
        "    'max_features': [None, 'sqrt', 'log2']\n",
        "}"
      ],
      "metadata": {
        "id": "KT_GU_VKPidY"
      },
      "execution_count": null,
      "outputs": []
    },
    {
      "cell_type": "code",
      "source": [
        "tree = DecisionTreeClassifier(random_state=42)"
      ],
      "metadata": {
        "id": "ehCTATc3PnBI"
      },
      "execution_count": null,
      "outputs": []
    },
    {
      "cell_type": "code",
      "source": [
        "grid_search = GridSearchCV(estimator=tree, param_grid=param_grid, cv=5)\n",
        "grid_search.fit(X_train, y_train)"
      ],
      "metadata": {
        "colab": {
          "base_uri": "https://localhost:8080/",
          "height": 115
        },
        "id": "Mp88y14vPq88",
        "outputId": "8898b7c6-6997-4bb7-80d0-d94a5a3044ac"
      },
      "execution_count": null,
      "outputs": [
        {
          "output_type": "execute_result",
          "data": {
            "text/plain": [
              "GridSearchCV(cv=5, estimator=DecisionTreeClassifier(random_state=42),\n",
              "             param_grid={'criterion': ['gini', 'entropy'],\n",
              "                         'max_depth': [None, 3, 4, 5, 6, 7, 8, 9, 10, 11, 12,\n",
              "                                       13, 14, 15],\n",
              "                         'max_features': [None, 'sqrt', 'log2'],\n",
              "                         'min_samples_leaf': [1, 2, 3, 4, 5],\n",
              "                         'min_samples_split': [2, 3, 4, 5, 6, 7, 8, 9, 10]})"
            ],
            "text/html": [
              "<style>#sk-container-id-3 {color: black;background-color: white;}#sk-container-id-3 pre{padding: 0;}#sk-container-id-3 div.sk-toggleable {background-color: white;}#sk-container-id-3 label.sk-toggleable__label {cursor: pointer;display: block;width: 100%;margin-bottom: 0;padding: 0.3em;box-sizing: border-box;text-align: center;}#sk-container-id-3 label.sk-toggleable__label-arrow:before {content: \"▸\";float: left;margin-right: 0.25em;color: #696969;}#sk-container-id-3 label.sk-toggleable__label-arrow:hover:before {color: black;}#sk-container-id-3 div.sk-estimator:hover label.sk-toggleable__label-arrow:before {color: black;}#sk-container-id-3 div.sk-toggleable__content {max-height: 0;max-width: 0;overflow: hidden;text-align: left;background-color: #f0f8ff;}#sk-container-id-3 div.sk-toggleable__content pre {margin: 0.2em;color: black;border-radius: 0.25em;background-color: #f0f8ff;}#sk-container-id-3 input.sk-toggleable__control:checked~div.sk-toggleable__content {max-height: 200px;max-width: 100%;overflow: auto;}#sk-container-id-3 input.sk-toggleable__control:checked~label.sk-toggleable__label-arrow:before {content: \"▾\";}#sk-container-id-3 div.sk-estimator input.sk-toggleable__control:checked~label.sk-toggleable__label {background-color: #d4ebff;}#sk-container-id-3 div.sk-label input.sk-toggleable__control:checked~label.sk-toggleable__label {background-color: #d4ebff;}#sk-container-id-3 input.sk-hidden--visually {border: 0;clip: rect(1px 1px 1px 1px);clip: rect(1px, 1px, 1px, 1px);height: 1px;margin: -1px;overflow: hidden;padding: 0;position: absolute;width: 1px;}#sk-container-id-3 div.sk-estimator {font-family: monospace;background-color: #f0f8ff;border: 1px dotted black;border-radius: 0.25em;box-sizing: border-box;margin-bottom: 0.5em;}#sk-container-id-3 div.sk-estimator:hover {background-color: #d4ebff;}#sk-container-id-3 div.sk-parallel-item::after {content: \"\";width: 100%;border-bottom: 1px solid gray;flex-grow: 1;}#sk-container-id-3 div.sk-label:hover label.sk-toggleable__label {background-color: #d4ebff;}#sk-container-id-3 div.sk-serial::before {content: \"\";position: absolute;border-left: 1px solid gray;box-sizing: border-box;top: 0;bottom: 0;left: 50%;z-index: 0;}#sk-container-id-3 div.sk-serial {display: flex;flex-direction: column;align-items: center;background-color: white;padding-right: 0.2em;padding-left: 0.2em;position: relative;}#sk-container-id-3 div.sk-item {position: relative;z-index: 1;}#sk-container-id-3 div.sk-parallel {display: flex;align-items: stretch;justify-content: center;background-color: white;position: relative;}#sk-container-id-3 div.sk-item::before, #sk-container-id-3 div.sk-parallel-item::before {content: \"\";position: absolute;border-left: 1px solid gray;box-sizing: border-box;top: 0;bottom: 0;left: 50%;z-index: -1;}#sk-container-id-3 div.sk-parallel-item {display: flex;flex-direction: column;z-index: 1;position: relative;background-color: white;}#sk-container-id-3 div.sk-parallel-item:first-child::after {align-self: flex-end;width: 50%;}#sk-container-id-3 div.sk-parallel-item:last-child::after {align-self: flex-start;width: 50%;}#sk-container-id-3 div.sk-parallel-item:only-child::after {width: 0;}#sk-container-id-3 div.sk-dashed-wrapped {border: 1px dashed gray;margin: 0 0.4em 0.5em 0.4em;box-sizing: border-box;padding-bottom: 0.4em;background-color: white;}#sk-container-id-3 div.sk-label label {font-family: monospace;font-weight: bold;display: inline-block;line-height: 1.2em;}#sk-container-id-3 div.sk-label-container {text-align: center;}#sk-container-id-3 div.sk-container {/* jupyter's `normalize.less` sets `[hidden] { display: none; }` but bootstrap.min.css set `[hidden] { display: none !important; }` so we also need the `!important` here to be able to override the default hidden behavior on the sphinx rendered scikit-learn.org. See: https://github.com/scikit-learn/scikit-learn/issues/21755 */display: inline-block !important;position: relative;}#sk-container-id-3 div.sk-text-repr-fallback {display: none;}</style><div id=\"sk-container-id-3\" class=\"sk-top-container\"><div class=\"sk-text-repr-fallback\"><pre>GridSearchCV(cv=5, estimator=DecisionTreeClassifier(random_state=42),\n",
              "             param_grid={&#x27;criterion&#x27;: [&#x27;gini&#x27;, &#x27;entropy&#x27;],\n",
              "                         &#x27;max_depth&#x27;: [None, 3, 4, 5, 6, 7, 8, 9, 10, 11, 12,\n",
              "                                       13, 14, 15],\n",
              "                         &#x27;max_features&#x27;: [None, &#x27;sqrt&#x27;, &#x27;log2&#x27;],\n",
              "                         &#x27;min_samples_leaf&#x27;: [1, 2, 3, 4, 5],\n",
              "                         &#x27;min_samples_split&#x27;: [2, 3, 4, 5, 6, 7, 8, 9, 10]})</pre><b>In a Jupyter environment, please rerun this cell to show the HTML representation or trust the notebook. <br />On GitHub, the HTML representation is unable to render, please try loading this page with nbviewer.org.</b></div><div class=\"sk-container\" hidden><div class=\"sk-item sk-dashed-wrapped\"><div class=\"sk-label-container\"><div class=\"sk-label sk-toggleable\"><input class=\"sk-toggleable__control sk-hidden--visually\" id=\"sk-estimator-id-5\" type=\"checkbox\" ><label for=\"sk-estimator-id-5\" class=\"sk-toggleable__label sk-toggleable__label-arrow\">GridSearchCV</label><div class=\"sk-toggleable__content\"><pre>GridSearchCV(cv=5, estimator=DecisionTreeClassifier(random_state=42),\n",
              "             param_grid={&#x27;criterion&#x27;: [&#x27;gini&#x27;, &#x27;entropy&#x27;],\n",
              "                         &#x27;max_depth&#x27;: [None, 3, 4, 5, 6, 7, 8, 9, 10, 11, 12,\n",
              "                                       13, 14, 15],\n",
              "                         &#x27;max_features&#x27;: [None, &#x27;sqrt&#x27;, &#x27;log2&#x27;],\n",
              "                         &#x27;min_samples_leaf&#x27;: [1, 2, 3, 4, 5],\n",
              "                         &#x27;min_samples_split&#x27;: [2, 3, 4, 5, 6, 7, 8, 9, 10]})</pre></div></div></div><div class=\"sk-parallel\"><div class=\"sk-parallel-item\"><div class=\"sk-item\"><div class=\"sk-label-container\"><div class=\"sk-label sk-toggleable\"><input class=\"sk-toggleable__control sk-hidden--visually\" id=\"sk-estimator-id-6\" type=\"checkbox\" ><label for=\"sk-estimator-id-6\" class=\"sk-toggleable__label sk-toggleable__label-arrow\">estimator: DecisionTreeClassifier</label><div class=\"sk-toggleable__content\"><pre>DecisionTreeClassifier(random_state=42)</pre></div></div></div><div class=\"sk-serial\"><div class=\"sk-item\"><div class=\"sk-estimator sk-toggleable\"><input class=\"sk-toggleable__control sk-hidden--visually\" id=\"sk-estimator-id-7\" type=\"checkbox\" ><label for=\"sk-estimator-id-7\" class=\"sk-toggleable__label sk-toggleable__label-arrow\">DecisionTreeClassifier</label><div class=\"sk-toggleable__content\"><pre>DecisionTreeClassifier(random_state=42)</pre></div></div></div></div></div></div></div></div></div></div>"
            ]
          },
          "metadata": {},
          "execution_count": 26
        }
      ]
    },
    {
      "cell_type": "code",
      "source": [
        "best_params = grid_search.best_params_\n",
        "best_model = grid_search.best_estimator_\n"
      ],
      "metadata": {
        "id": "LTL49p4IP0pm"
      },
      "execution_count": null,
      "outputs": []
    },
    {
      "cell_type": "code",
      "source": [
        "best_model"
      ],
      "metadata": {
        "colab": {
          "base_uri": "https://localhost:8080/",
          "height": 74
        },
        "id": "iiNQL_nuP-fx",
        "outputId": "0ef984c2-b9d6-4a8c-8a5b-e4a6298e2cfc"
      },
      "execution_count": null,
      "outputs": [
        {
          "output_type": "execute_result",
          "data": {
            "text/plain": [
              "DecisionTreeClassifier(max_depth=3, min_samples_leaf=4, random_state=42)"
            ],
            "text/html": [
              "<style>#sk-container-id-4 {color: black;background-color: white;}#sk-container-id-4 pre{padding: 0;}#sk-container-id-4 div.sk-toggleable {background-color: white;}#sk-container-id-4 label.sk-toggleable__label {cursor: pointer;display: block;width: 100%;margin-bottom: 0;padding: 0.3em;box-sizing: border-box;text-align: center;}#sk-container-id-4 label.sk-toggleable__label-arrow:before {content: \"▸\";float: left;margin-right: 0.25em;color: #696969;}#sk-container-id-4 label.sk-toggleable__label-arrow:hover:before {color: black;}#sk-container-id-4 div.sk-estimator:hover label.sk-toggleable__label-arrow:before {color: black;}#sk-container-id-4 div.sk-toggleable__content {max-height: 0;max-width: 0;overflow: hidden;text-align: left;background-color: #f0f8ff;}#sk-container-id-4 div.sk-toggleable__content pre {margin: 0.2em;color: black;border-radius: 0.25em;background-color: #f0f8ff;}#sk-container-id-4 input.sk-toggleable__control:checked~div.sk-toggleable__content {max-height: 200px;max-width: 100%;overflow: auto;}#sk-container-id-4 input.sk-toggleable__control:checked~label.sk-toggleable__label-arrow:before {content: \"▾\";}#sk-container-id-4 div.sk-estimator input.sk-toggleable__control:checked~label.sk-toggleable__label {background-color: #d4ebff;}#sk-container-id-4 div.sk-label input.sk-toggleable__control:checked~label.sk-toggleable__label {background-color: #d4ebff;}#sk-container-id-4 input.sk-hidden--visually {border: 0;clip: rect(1px 1px 1px 1px);clip: rect(1px, 1px, 1px, 1px);height: 1px;margin: -1px;overflow: hidden;padding: 0;position: absolute;width: 1px;}#sk-container-id-4 div.sk-estimator {font-family: monospace;background-color: #f0f8ff;border: 1px dotted black;border-radius: 0.25em;box-sizing: border-box;margin-bottom: 0.5em;}#sk-container-id-4 div.sk-estimator:hover {background-color: #d4ebff;}#sk-container-id-4 div.sk-parallel-item::after {content: \"\";width: 100%;border-bottom: 1px solid gray;flex-grow: 1;}#sk-container-id-4 div.sk-label:hover label.sk-toggleable__label {background-color: #d4ebff;}#sk-container-id-4 div.sk-serial::before {content: \"\";position: absolute;border-left: 1px solid gray;box-sizing: border-box;top: 0;bottom: 0;left: 50%;z-index: 0;}#sk-container-id-4 div.sk-serial {display: flex;flex-direction: column;align-items: center;background-color: white;padding-right: 0.2em;padding-left: 0.2em;position: relative;}#sk-container-id-4 div.sk-item {position: relative;z-index: 1;}#sk-container-id-4 div.sk-parallel {display: flex;align-items: stretch;justify-content: center;background-color: white;position: relative;}#sk-container-id-4 div.sk-item::before, #sk-container-id-4 div.sk-parallel-item::before {content: \"\";position: absolute;border-left: 1px solid gray;box-sizing: border-box;top: 0;bottom: 0;left: 50%;z-index: -1;}#sk-container-id-4 div.sk-parallel-item {display: flex;flex-direction: column;z-index: 1;position: relative;background-color: white;}#sk-container-id-4 div.sk-parallel-item:first-child::after {align-self: flex-end;width: 50%;}#sk-container-id-4 div.sk-parallel-item:last-child::after {align-self: flex-start;width: 50%;}#sk-container-id-4 div.sk-parallel-item:only-child::after {width: 0;}#sk-container-id-4 div.sk-dashed-wrapped {border: 1px dashed gray;margin: 0 0.4em 0.5em 0.4em;box-sizing: border-box;padding-bottom: 0.4em;background-color: white;}#sk-container-id-4 div.sk-label label {font-family: monospace;font-weight: bold;display: inline-block;line-height: 1.2em;}#sk-container-id-4 div.sk-label-container {text-align: center;}#sk-container-id-4 div.sk-container {/* jupyter's `normalize.less` sets `[hidden] { display: none; }` but bootstrap.min.css set `[hidden] { display: none !important; }` so we also need the `!important` here to be able to override the default hidden behavior on the sphinx rendered scikit-learn.org. See: https://github.com/scikit-learn/scikit-learn/issues/21755 */display: inline-block !important;position: relative;}#sk-container-id-4 div.sk-text-repr-fallback {display: none;}</style><div id=\"sk-container-id-4\" class=\"sk-top-container\"><div class=\"sk-text-repr-fallback\"><pre>DecisionTreeClassifier(max_depth=3, min_samples_leaf=4, random_state=42)</pre><b>In a Jupyter environment, please rerun this cell to show the HTML representation or trust the notebook. <br />On GitHub, the HTML representation is unable to render, please try loading this page with nbviewer.org.</b></div><div class=\"sk-container\" hidden><div class=\"sk-item\"><div class=\"sk-estimator sk-toggleable\"><input class=\"sk-toggleable__control sk-hidden--visually\" id=\"sk-estimator-id-8\" type=\"checkbox\" checked><label for=\"sk-estimator-id-8\" class=\"sk-toggleable__label sk-toggleable__label-arrow\">DecisionTreeClassifier</label><div class=\"sk-toggleable__content\"><pre>DecisionTreeClassifier(max_depth=3, min_samples_leaf=4, random_state=42)</pre></div></div></div></div></div>"
            ]
          },
          "metadata": {},
          "execution_count": 28
        }
      ]
    },
    {
      "cell_type": "code",
      "source": [
        "best_params"
      ],
      "metadata": {
        "colab": {
          "base_uri": "https://localhost:8080/"
        },
        "id": "W8q5mpSX8eJy",
        "outputId": "7c6b915e-6615-41e7-856f-6f7cbc626653"
      },
      "execution_count": null,
      "outputs": [
        {
          "output_type": "execute_result",
          "data": {
            "text/plain": [
              "{'criterion': 'gini',\n",
              " 'max_depth': 3,\n",
              " 'max_features': None,\n",
              " 'min_samples_leaf': 4,\n",
              " 'min_samples_split': 2}"
            ]
          },
          "metadata": {},
          "execution_count": 30
        }
      ]
    },
    {
      "cell_type": "code",
      "source": [
        "best_model.fit(X_train,y_train)"
      ],
      "metadata": {
        "colab": {
          "base_uri": "https://localhost:8080/",
          "height": 74
        },
        "id": "_9P87yeVODBD",
        "outputId": "6c0c1a09-e9d2-46af-a1ee-4e6e73160ad5"
      },
      "execution_count": null,
      "outputs": [
        {
          "output_type": "execute_result",
          "data": {
            "text/plain": [
              "DecisionTreeClassifier(max_depth=3, min_samples_leaf=4, random_state=42)"
            ],
            "text/html": [
              "<style>#sk-container-id-7 {color: black;background-color: white;}#sk-container-id-7 pre{padding: 0;}#sk-container-id-7 div.sk-toggleable {background-color: white;}#sk-container-id-7 label.sk-toggleable__label {cursor: pointer;display: block;width: 100%;margin-bottom: 0;padding: 0.3em;box-sizing: border-box;text-align: center;}#sk-container-id-7 label.sk-toggleable__label-arrow:before {content: \"▸\";float: left;margin-right: 0.25em;color: #696969;}#sk-container-id-7 label.sk-toggleable__label-arrow:hover:before {color: black;}#sk-container-id-7 div.sk-estimator:hover label.sk-toggleable__label-arrow:before {color: black;}#sk-container-id-7 div.sk-toggleable__content {max-height: 0;max-width: 0;overflow: hidden;text-align: left;background-color: #f0f8ff;}#sk-container-id-7 div.sk-toggleable__content pre {margin: 0.2em;color: black;border-radius: 0.25em;background-color: #f0f8ff;}#sk-container-id-7 input.sk-toggleable__control:checked~div.sk-toggleable__content {max-height: 200px;max-width: 100%;overflow: auto;}#sk-container-id-7 input.sk-toggleable__control:checked~label.sk-toggleable__label-arrow:before {content: \"▾\";}#sk-container-id-7 div.sk-estimator input.sk-toggleable__control:checked~label.sk-toggleable__label {background-color: #d4ebff;}#sk-container-id-7 div.sk-label input.sk-toggleable__control:checked~label.sk-toggleable__label {background-color: #d4ebff;}#sk-container-id-7 input.sk-hidden--visually {border: 0;clip: rect(1px 1px 1px 1px);clip: rect(1px, 1px, 1px, 1px);height: 1px;margin: -1px;overflow: hidden;padding: 0;position: absolute;width: 1px;}#sk-container-id-7 div.sk-estimator {font-family: monospace;background-color: #f0f8ff;border: 1px dotted black;border-radius: 0.25em;box-sizing: border-box;margin-bottom: 0.5em;}#sk-container-id-7 div.sk-estimator:hover {background-color: #d4ebff;}#sk-container-id-7 div.sk-parallel-item::after {content: \"\";width: 100%;border-bottom: 1px solid gray;flex-grow: 1;}#sk-container-id-7 div.sk-label:hover label.sk-toggleable__label {background-color: #d4ebff;}#sk-container-id-7 div.sk-serial::before {content: \"\";position: absolute;border-left: 1px solid gray;box-sizing: border-box;top: 0;bottom: 0;left: 50%;z-index: 0;}#sk-container-id-7 div.sk-serial {display: flex;flex-direction: column;align-items: center;background-color: white;padding-right: 0.2em;padding-left: 0.2em;position: relative;}#sk-container-id-7 div.sk-item {position: relative;z-index: 1;}#sk-container-id-7 div.sk-parallel {display: flex;align-items: stretch;justify-content: center;background-color: white;position: relative;}#sk-container-id-7 div.sk-item::before, #sk-container-id-7 div.sk-parallel-item::before {content: \"\";position: absolute;border-left: 1px solid gray;box-sizing: border-box;top: 0;bottom: 0;left: 50%;z-index: -1;}#sk-container-id-7 div.sk-parallel-item {display: flex;flex-direction: column;z-index: 1;position: relative;background-color: white;}#sk-container-id-7 div.sk-parallel-item:first-child::after {align-self: flex-end;width: 50%;}#sk-container-id-7 div.sk-parallel-item:last-child::after {align-self: flex-start;width: 50%;}#sk-container-id-7 div.sk-parallel-item:only-child::after {width: 0;}#sk-container-id-7 div.sk-dashed-wrapped {border: 1px dashed gray;margin: 0 0.4em 0.5em 0.4em;box-sizing: border-box;padding-bottom: 0.4em;background-color: white;}#sk-container-id-7 div.sk-label label {font-family: monospace;font-weight: bold;display: inline-block;line-height: 1.2em;}#sk-container-id-7 div.sk-label-container {text-align: center;}#sk-container-id-7 div.sk-container {/* jupyter's `normalize.less` sets `[hidden] { display: none; }` but bootstrap.min.css set `[hidden] { display: none !important; }` so we also need the `!important` here to be able to override the default hidden behavior on the sphinx rendered scikit-learn.org. See: https://github.com/scikit-learn/scikit-learn/issues/21755 */display: inline-block !important;position: relative;}#sk-container-id-7 div.sk-text-repr-fallback {display: none;}</style><div id=\"sk-container-id-7\" class=\"sk-top-container\"><div class=\"sk-text-repr-fallback\"><pre>DecisionTreeClassifier(max_depth=3, min_samples_leaf=4, random_state=42)</pre><b>In a Jupyter environment, please rerun this cell to show the HTML representation or trust the notebook. <br />On GitHub, the HTML representation is unable to render, please try loading this page with nbviewer.org.</b></div><div class=\"sk-container\" hidden><div class=\"sk-item\"><div class=\"sk-estimator sk-toggleable\"><input class=\"sk-toggleable__control sk-hidden--visually\" id=\"sk-estimator-id-11\" type=\"checkbox\" checked><label for=\"sk-estimator-id-11\" class=\"sk-toggleable__label sk-toggleable__label-arrow\">DecisionTreeClassifier</label><div class=\"sk-toggleable__content\"><pre>DecisionTreeClassifier(max_depth=3, min_samples_leaf=4, random_state=42)</pre></div></div></div></div></div>"
            ]
          },
          "metadata": {},
          "execution_count": 108
        }
      ]
    },
    {
      "cell_type": "code",
      "source": [
        "y_pred=tree.predict(X_test)"
      ],
      "metadata": {
        "id": "y2nlNh0oOXCF"
      },
      "execution_count": null,
      "outputs": []
    },
    {
      "cell_type": "code",
      "source": [
        "y_pred"
      ],
      "metadata": {
        "colab": {
          "base_uri": "https://localhost:8080/"
        },
        "id": "6-tEuiKTqeAD",
        "outputId": "0fcf8e30-7872-4077-b145-8e51da5a8260"
      },
      "execution_count": null,
      "outputs": [
        {
          "output_type": "execute_result",
          "data": {
            "text/plain": [
              "array([0, 0, 0, 0, 0, 1, 0, 0, 0, 1, 0, 1, 1, 0, 0, 0, 0, 0, 0, 0, 0, 0,\n",
              "       0, 0, 0, 0, 0, 0, 1, 0, 0, 0, 0, 0, 1, 0, 0, 0, 0, 1, 0, 1, 0, 1,\n",
              "       0, 0, 1, 0, 0, 1, 0, 0, 0, 0, 0, 0, 1, 0, 0, 0, 0, 0, 0, 0, 0, 1,\n",
              "       0, 0, 1, 0, 1, 1, 0, 0, 0, 0, 0, 0, 1, 0, 1, 0, 0, 0, 0, 0, 0, 1,\n",
              "       0, 1, 0, 0, 1, 0, 0, 0, 0, 0, 0, 0, 0, 0, 0, 0, 0, 1, 0, 0, 0, 0,\n",
              "       0, 0, 0, 0, 0, 0, 0, 0, 0, 0, 1, 1, 0, 0])"
            ]
          },
          "metadata": {},
          "execution_count": 110
        }
      ]
    },
    {
      "cell_type": "code",
      "source": [
        "y_pred_binary = [1 if p >= 0.5 else 0 for p in y_pred]\n",
        "\n",
        "accuracy = accuracy_score(y_test, y_pred_binary)\n",
        "print(\"Accuracy: %.2f%%\" % (accuracy * 100.0))"
      ],
      "metadata": {
        "colab": {
          "base_uri": "https://localhost:8080/"
        },
        "id": "lVsxG18TOpqz",
        "outputId": "cc9d7c40-83b3-4173-ec8e-015d1e95d9b5"
      },
      "execution_count": null,
      "outputs": [
        {
          "output_type": "stream",
          "name": "stdout",
          "text": [
            "Accuracy: 88.71%\n"
          ]
        }
      ]
    },
    {
      "cell_type": "code",
      "source": [
        "test_df=pd.read_csv('/content/test.csv')"
      ],
      "metadata": {
        "id": "xNbWkkkm_hrY"
      },
      "execution_count": null,
      "outputs": []
    },
    {
      "cell_type": "code",
      "source": [
        "test_feat_scale = [feature for feature in test_df.columns if feature not in ['Id','EJ']]"
      ],
      "metadata": {
        "id": "CkatXMW4AZvH"
      },
      "execution_count": null,
      "outputs": []
    },
    {
      "cell_type": "code",
      "source": [
        "test_feat_scale"
      ],
      "metadata": {
        "id": "mtraIiq3IDLj"
      },
      "execution_count": null,
      "outputs": []
    },
    {
      "cell_type": "code",
      "source": [
        "scaler.fit(df[test_feat_scale])"
      ],
      "metadata": {
        "colab": {
          "base_uri": "https://localhost:8080/",
          "height": 74
        },
        "id": "eUM4viNZIMIB",
        "outputId": "b143dc22-e67b-422f-c744-e27b0176bd34"
      },
      "execution_count": null,
      "outputs": [
        {
          "output_type": "execute_result",
          "data": {
            "text/plain": [
              "StandardScaler()"
            ],
            "text/html": [
              "<style>#sk-container-id-6 {color: black;background-color: white;}#sk-container-id-6 pre{padding: 0;}#sk-container-id-6 div.sk-toggleable {background-color: white;}#sk-container-id-6 label.sk-toggleable__label {cursor: pointer;display: block;width: 100%;margin-bottom: 0;padding: 0.3em;box-sizing: border-box;text-align: center;}#sk-container-id-6 label.sk-toggleable__label-arrow:before {content: \"▸\";float: left;margin-right: 0.25em;color: #696969;}#sk-container-id-6 label.sk-toggleable__label-arrow:hover:before {color: black;}#sk-container-id-6 div.sk-estimator:hover label.sk-toggleable__label-arrow:before {color: black;}#sk-container-id-6 div.sk-toggleable__content {max-height: 0;max-width: 0;overflow: hidden;text-align: left;background-color: #f0f8ff;}#sk-container-id-6 div.sk-toggleable__content pre {margin: 0.2em;color: black;border-radius: 0.25em;background-color: #f0f8ff;}#sk-container-id-6 input.sk-toggleable__control:checked~div.sk-toggleable__content {max-height: 200px;max-width: 100%;overflow: auto;}#sk-container-id-6 input.sk-toggleable__control:checked~label.sk-toggleable__label-arrow:before {content: \"▾\";}#sk-container-id-6 div.sk-estimator input.sk-toggleable__control:checked~label.sk-toggleable__label {background-color: #d4ebff;}#sk-container-id-6 div.sk-label input.sk-toggleable__control:checked~label.sk-toggleable__label {background-color: #d4ebff;}#sk-container-id-6 input.sk-hidden--visually {border: 0;clip: rect(1px 1px 1px 1px);clip: rect(1px, 1px, 1px, 1px);height: 1px;margin: -1px;overflow: hidden;padding: 0;position: absolute;width: 1px;}#sk-container-id-6 div.sk-estimator {font-family: monospace;background-color: #f0f8ff;border: 1px dotted black;border-radius: 0.25em;box-sizing: border-box;margin-bottom: 0.5em;}#sk-container-id-6 div.sk-estimator:hover {background-color: #d4ebff;}#sk-container-id-6 div.sk-parallel-item::after {content: \"\";width: 100%;border-bottom: 1px solid gray;flex-grow: 1;}#sk-container-id-6 div.sk-label:hover label.sk-toggleable__label {background-color: #d4ebff;}#sk-container-id-6 div.sk-serial::before {content: \"\";position: absolute;border-left: 1px solid gray;box-sizing: border-box;top: 0;bottom: 0;left: 50%;z-index: 0;}#sk-container-id-6 div.sk-serial {display: flex;flex-direction: column;align-items: center;background-color: white;padding-right: 0.2em;padding-left: 0.2em;position: relative;}#sk-container-id-6 div.sk-item {position: relative;z-index: 1;}#sk-container-id-6 div.sk-parallel {display: flex;align-items: stretch;justify-content: center;background-color: white;position: relative;}#sk-container-id-6 div.sk-item::before, #sk-container-id-6 div.sk-parallel-item::before {content: \"\";position: absolute;border-left: 1px solid gray;box-sizing: border-box;top: 0;bottom: 0;left: 50%;z-index: -1;}#sk-container-id-6 div.sk-parallel-item {display: flex;flex-direction: column;z-index: 1;position: relative;background-color: white;}#sk-container-id-6 div.sk-parallel-item:first-child::after {align-self: flex-end;width: 50%;}#sk-container-id-6 div.sk-parallel-item:last-child::after {align-self: flex-start;width: 50%;}#sk-container-id-6 div.sk-parallel-item:only-child::after {width: 0;}#sk-container-id-6 div.sk-dashed-wrapped {border: 1px dashed gray;margin: 0 0.4em 0.5em 0.4em;box-sizing: border-box;padding-bottom: 0.4em;background-color: white;}#sk-container-id-6 div.sk-label label {font-family: monospace;font-weight: bold;display: inline-block;line-height: 1.2em;}#sk-container-id-6 div.sk-label-container {text-align: center;}#sk-container-id-6 div.sk-container {/* jupyter's `normalize.less` sets `[hidden] { display: none; }` but bootstrap.min.css set `[hidden] { display: none !important; }` so we also need the `!important` here to be able to override the default hidden behavior on the sphinx rendered scikit-learn.org. See: https://github.com/scikit-learn/scikit-learn/issues/21755 */display: inline-block !important;position: relative;}#sk-container-id-6 div.sk-text-repr-fallback {display: none;}</style><div id=\"sk-container-id-6\" class=\"sk-top-container\"><div class=\"sk-text-repr-fallback\"><pre>StandardScaler()</pre><b>In a Jupyter environment, please rerun this cell to show the HTML representation or trust the notebook. <br />On GitHub, the HTML representation is unable to render, please try loading this page with nbviewer.org.</b></div><div class=\"sk-container\" hidden><div class=\"sk-item\"><div class=\"sk-estimator sk-toggleable\"><input class=\"sk-toggleable__control sk-hidden--visually\" id=\"sk-estimator-id-10\" type=\"checkbox\" checked><label for=\"sk-estimator-id-10\" class=\"sk-toggleable__label sk-toggleable__label-arrow\">StandardScaler</label><div class=\"sk-toggleable__content\"><pre>StandardScaler()</pre></div></div></div></div></div>"
            ]
          },
          "metadata": {},
          "execution_count": 79
        }
      ]
    },
    {
      "cell_type": "code",
      "source": [
        "test_data=pd.concat([test_df[['Id','EJ']].reset_index(drop=True),\n",
        "               pd.DataFrame(scaler.transform(test_df[test_feat_scale]), columns=test_feat_scale)],\n",
        "               axis=1)"
      ],
      "metadata": {
        "id": "WF34LR9aInVM"
      },
      "execution_count": null,
      "outputs": []
    },
    {
      "cell_type": "code",
      "source": [
        "test_data.head()"
      ],
      "metadata": {
        "colab": {
          "base_uri": "https://localhost:8080/",
          "height": 299
        },
        "id": "D_8qLKBIkeSE",
        "outputId": "519ec8e1-382c-41d7-8c63-c89afa027a2e"
      },
      "execution_count": null,
      "outputs": [
        {
          "output_type": "execute_result",
          "data": {
            "text/plain": [
              "             Id EJ        AB        AF        AH        AM        AR  \\\n",
              "0  00eed32682bb  A -1.019531 -1.523636 -0.928674 -0.559317 -0.963645   \n",
              "1  010ebe33f668  A -1.019531 -1.523636 -0.928674 -0.559317 -0.963645   \n",
              "2  02fa521e1838  A -1.019531 -1.523636 -0.928674 -0.559317 -0.963645   \n",
              "3  040e15f562a2  A -1.019531 -1.523636 -0.928674 -0.559317 -0.963645   \n",
              "4  046e85c7cc7f  A -1.019531 -1.523636 -0.928674 -0.559317 -0.963645   \n",
              "\n",
              "         AX        AY        AZ  ...        FI       FL        FR        FS  \\\n",
              "0 -2.175054 -0.144832 -2.430678  ... -3.448942 -0.47299 -0.070479 -0.323252   \n",
              "1 -2.175054 -0.144832 -2.430678  ... -3.448942 -0.47299 -0.070479 -0.323252   \n",
              "2 -2.175054 -0.144832 -2.430678  ... -3.448942 -0.47299 -0.070479 -0.323252   \n",
              "3 -2.175054 -0.144832 -2.430678  ... -3.448942 -0.47299 -0.070479 -0.323252   \n",
              "4 -2.175054 -0.144832 -2.430678  ... -3.448942 -0.47299 -0.070479 -0.323252   \n",
              "\n",
              "         GB        GE        GF        GH        GI        GL  \n",
              "0 -2.075847 -0.914277 -0.759135 -3.194901 -1.395939 -0.826754  \n",
              "1 -2.075847 -0.914277 -0.759135 -3.194901 -1.395939 -0.826754  \n",
              "2 -2.075847 -0.914277 -0.759135 -3.194901 -1.395939 -0.826754  \n",
              "3 -2.075847 -0.914277 -0.759135 -3.194901 -1.395939 -0.826754  \n",
              "4 -2.075847 -0.914277 -0.759135 -3.194901 -1.395939 -0.826754  \n",
              "\n",
              "[5 rows x 57 columns]"
            ],
            "text/html": [
              "\n",
              "  <div id=\"df-d7480edd-acdc-42e6-abbf-06d1d4530bdc\">\n",
              "    <div class=\"colab-df-container\">\n",
              "      <div>\n",
              "<style scoped>\n",
              "    .dataframe tbody tr th:only-of-type {\n",
              "        vertical-align: middle;\n",
              "    }\n",
              "\n",
              "    .dataframe tbody tr th {\n",
              "        vertical-align: top;\n",
              "    }\n",
              "\n",
              "    .dataframe thead th {\n",
              "        text-align: right;\n",
              "    }\n",
              "</style>\n",
              "<table border=\"1\" class=\"dataframe\">\n",
              "  <thead>\n",
              "    <tr style=\"text-align: right;\">\n",
              "      <th></th>\n",
              "      <th>Id</th>\n",
              "      <th>EJ</th>\n",
              "      <th>AB</th>\n",
              "      <th>AF</th>\n",
              "      <th>AH</th>\n",
              "      <th>AM</th>\n",
              "      <th>AR</th>\n",
              "      <th>AX</th>\n",
              "      <th>AY</th>\n",
              "      <th>AZ</th>\n",
              "      <th>...</th>\n",
              "      <th>FI</th>\n",
              "      <th>FL</th>\n",
              "      <th>FR</th>\n",
              "      <th>FS</th>\n",
              "      <th>GB</th>\n",
              "      <th>GE</th>\n",
              "      <th>GF</th>\n",
              "      <th>GH</th>\n",
              "      <th>GI</th>\n",
              "      <th>GL</th>\n",
              "    </tr>\n",
              "  </thead>\n",
              "  <tbody>\n",
              "    <tr>\n",
              "      <th>0</th>\n",
              "      <td>00eed32682bb</td>\n",
              "      <td>A</td>\n",
              "      <td>-1.019531</td>\n",
              "      <td>-1.523636</td>\n",
              "      <td>-0.928674</td>\n",
              "      <td>-0.559317</td>\n",
              "      <td>-0.963645</td>\n",
              "      <td>-2.175054</td>\n",
              "      <td>-0.144832</td>\n",
              "      <td>-2.430678</td>\n",
              "      <td>...</td>\n",
              "      <td>-3.448942</td>\n",
              "      <td>-0.47299</td>\n",
              "      <td>-0.070479</td>\n",
              "      <td>-0.323252</td>\n",
              "      <td>-2.075847</td>\n",
              "      <td>-0.914277</td>\n",
              "      <td>-0.759135</td>\n",
              "      <td>-3.194901</td>\n",
              "      <td>-1.395939</td>\n",
              "      <td>-0.826754</td>\n",
              "    </tr>\n",
              "    <tr>\n",
              "      <th>1</th>\n",
              "      <td>010ebe33f668</td>\n",
              "      <td>A</td>\n",
              "      <td>-1.019531</td>\n",
              "      <td>-1.523636</td>\n",
              "      <td>-0.928674</td>\n",
              "      <td>-0.559317</td>\n",
              "      <td>-0.963645</td>\n",
              "      <td>-2.175054</td>\n",
              "      <td>-0.144832</td>\n",
              "      <td>-2.430678</td>\n",
              "      <td>...</td>\n",
              "      <td>-3.448942</td>\n",
              "      <td>-0.47299</td>\n",
              "      <td>-0.070479</td>\n",
              "      <td>-0.323252</td>\n",
              "      <td>-2.075847</td>\n",
              "      <td>-0.914277</td>\n",
              "      <td>-0.759135</td>\n",
              "      <td>-3.194901</td>\n",
              "      <td>-1.395939</td>\n",
              "      <td>-0.826754</td>\n",
              "    </tr>\n",
              "    <tr>\n",
              "      <th>2</th>\n",
              "      <td>02fa521e1838</td>\n",
              "      <td>A</td>\n",
              "      <td>-1.019531</td>\n",
              "      <td>-1.523636</td>\n",
              "      <td>-0.928674</td>\n",
              "      <td>-0.559317</td>\n",
              "      <td>-0.963645</td>\n",
              "      <td>-2.175054</td>\n",
              "      <td>-0.144832</td>\n",
              "      <td>-2.430678</td>\n",
              "      <td>...</td>\n",
              "      <td>-3.448942</td>\n",
              "      <td>-0.47299</td>\n",
              "      <td>-0.070479</td>\n",
              "      <td>-0.323252</td>\n",
              "      <td>-2.075847</td>\n",
              "      <td>-0.914277</td>\n",
              "      <td>-0.759135</td>\n",
              "      <td>-3.194901</td>\n",
              "      <td>-1.395939</td>\n",
              "      <td>-0.826754</td>\n",
              "    </tr>\n",
              "    <tr>\n",
              "      <th>3</th>\n",
              "      <td>040e15f562a2</td>\n",
              "      <td>A</td>\n",
              "      <td>-1.019531</td>\n",
              "      <td>-1.523636</td>\n",
              "      <td>-0.928674</td>\n",
              "      <td>-0.559317</td>\n",
              "      <td>-0.963645</td>\n",
              "      <td>-2.175054</td>\n",
              "      <td>-0.144832</td>\n",
              "      <td>-2.430678</td>\n",
              "      <td>...</td>\n",
              "      <td>-3.448942</td>\n",
              "      <td>-0.47299</td>\n",
              "      <td>-0.070479</td>\n",
              "      <td>-0.323252</td>\n",
              "      <td>-2.075847</td>\n",
              "      <td>-0.914277</td>\n",
              "      <td>-0.759135</td>\n",
              "      <td>-3.194901</td>\n",
              "      <td>-1.395939</td>\n",
              "      <td>-0.826754</td>\n",
              "    </tr>\n",
              "    <tr>\n",
              "      <th>4</th>\n",
              "      <td>046e85c7cc7f</td>\n",
              "      <td>A</td>\n",
              "      <td>-1.019531</td>\n",
              "      <td>-1.523636</td>\n",
              "      <td>-0.928674</td>\n",
              "      <td>-0.559317</td>\n",
              "      <td>-0.963645</td>\n",
              "      <td>-2.175054</td>\n",
              "      <td>-0.144832</td>\n",
              "      <td>-2.430678</td>\n",
              "      <td>...</td>\n",
              "      <td>-3.448942</td>\n",
              "      <td>-0.47299</td>\n",
              "      <td>-0.070479</td>\n",
              "      <td>-0.323252</td>\n",
              "      <td>-2.075847</td>\n",
              "      <td>-0.914277</td>\n",
              "      <td>-0.759135</td>\n",
              "      <td>-3.194901</td>\n",
              "      <td>-1.395939</td>\n",
              "      <td>-0.826754</td>\n",
              "    </tr>\n",
              "  </tbody>\n",
              "</table>\n",
              "<p>5 rows × 57 columns</p>\n",
              "</div>\n",
              "      <button class=\"colab-df-convert\" onclick=\"convertToInteractive('df-d7480edd-acdc-42e6-abbf-06d1d4530bdc')\"\n",
              "              title=\"Convert this dataframe to an interactive table.\"\n",
              "              style=\"display:none;\">\n",
              "        \n",
              "  <svg xmlns=\"http://www.w3.org/2000/svg\" height=\"24px\"viewBox=\"0 0 24 24\"\n",
              "       width=\"24px\">\n",
              "    <path d=\"M0 0h24v24H0V0z\" fill=\"none\"/>\n",
              "    <path d=\"M18.56 5.44l.94 2.06.94-2.06 2.06-.94-2.06-.94-.94-2.06-.94 2.06-2.06.94zm-11 1L8.5 8.5l.94-2.06 2.06-.94-2.06-.94L8.5 2.5l-.94 2.06-2.06.94zm10 10l.94 2.06.94-2.06 2.06-.94-2.06-.94-.94-2.06-.94 2.06-2.06.94z\"/><path d=\"M17.41 7.96l-1.37-1.37c-.4-.4-.92-.59-1.43-.59-.52 0-1.04.2-1.43.59L10.3 9.45l-7.72 7.72c-.78.78-.78 2.05 0 2.83L4 21.41c.39.39.9.59 1.41.59.51 0 1.02-.2 1.41-.59l7.78-7.78 2.81-2.81c.8-.78.8-2.07 0-2.86zM5.41 20L4 18.59l7.72-7.72 1.47 1.35L5.41 20z\"/>\n",
              "  </svg>\n",
              "      </button>\n",
              "      \n",
              "  <style>\n",
              "    .colab-df-container {\n",
              "      display:flex;\n",
              "      flex-wrap:wrap;\n",
              "      gap: 12px;\n",
              "    }\n",
              "\n",
              "    .colab-df-convert {\n",
              "      background-color: #E8F0FE;\n",
              "      border: none;\n",
              "      border-radius: 50%;\n",
              "      cursor: pointer;\n",
              "      display: none;\n",
              "      fill: #1967D2;\n",
              "      height: 32px;\n",
              "      padding: 0 0 0 0;\n",
              "      width: 32px;\n",
              "    }\n",
              "\n",
              "    .colab-df-convert:hover {\n",
              "      background-color: #E2EBFA;\n",
              "      box-shadow: 0px 1px 2px rgba(60, 64, 67, 0.3), 0px 1px 3px 1px rgba(60, 64, 67, 0.15);\n",
              "      fill: #174EA6;\n",
              "    }\n",
              "\n",
              "    [theme=dark] .colab-df-convert {\n",
              "      background-color: #3B4455;\n",
              "      fill: #D2E3FC;\n",
              "    }\n",
              "\n",
              "    [theme=dark] .colab-df-convert:hover {\n",
              "      background-color: #434B5C;\n",
              "      box-shadow: 0px 1px 3px 1px rgba(0, 0, 0, 0.15);\n",
              "      filter: drop-shadow(0px 1px 2px rgba(0, 0, 0, 0.3));\n",
              "      fill: #FFFFFF;\n",
              "    }\n",
              "  </style>\n",
              "\n",
              "      <script>\n",
              "        const buttonEl =\n",
              "          document.querySelector('#df-d7480edd-acdc-42e6-abbf-06d1d4530bdc button.colab-df-convert');\n",
              "        buttonEl.style.display =\n",
              "          google.colab.kernel.accessAllowed ? 'block' : 'none';\n",
              "\n",
              "        async function convertToInteractive(key) {\n",
              "          const element = document.querySelector('#df-d7480edd-acdc-42e6-abbf-06d1d4530bdc');\n",
              "          const dataTable =\n",
              "            await google.colab.kernel.invokeFunction('convertToInteractive',\n",
              "                                                     [key], {});\n",
              "          if (!dataTable) return;\n",
              "\n",
              "          const docLinkHtml = 'Like what you see? Visit the ' +\n",
              "            '<a target=\"_blank\" href=https://colab.research.google.com/notebooks/data_table.ipynb>data table notebook</a>'\n",
              "            + ' to learn more about interactive tables.';\n",
              "          element.innerHTML = '';\n",
              "          dataTable['output_type'] = 'display_data';\n",
              "          await google.colab.output.renderOutput(dataTable, element);\n",
              "          const docLink = document.createElement('div');\n",
              "          docLink.innerHTML = docLinkHtml;\n",
              "          element.appendChild(docLink);\n",
              "        }\n",
              "      </script>\n",
              "    </div>\n",
              "  </div>\n",
              "  "
            ]
          },
          "metadata": {},
          "execution_count": 90
        }
      ]
    },
    {
      "cell_type": "code",
      "source": [
        "test_data=test_data.drop(['Id','AH','AM','AR','AZ','BZ','CL','EH','EL','EU','FC','FS','GB','GI','GL'],axis=1)"
      ],
      "metadata": {
        "id": "xi6HYaQvI-da"
      },
      "execution_count": null,
      "outputs": []
    },
    {
      "cell_type": "code",
      "source": [
        "test_data['EJ']= LabelEncoder().fit_transform(test_data['EJ'])"
      ],
      "metadata": {
        "id": "J8IB61dRJLr6"
      },
      "execution_count": null,
      "outputs": []
    },
    {
      "cell_type": "code",
      "source": [
        "test_data.head()"
      ],
      "metadata": {
        "colab": {
          "base_uri": "https://localhost:8080/",
          "height": 299
        },
        "id": "_eFPmlQfPoL-",
        "outputId": "1a864865-c4f7-458b-806b-03212eb37743"
      },
      "execution_count": null,
      "outputs": [
        {
          "output_type": "execute_result",
          "data": {
            "text/plain": [
              "   EJ        AB        AF        AX        AY        BC       BD         BN  \\\n",
              "0   0 -1.019531 -1.523636 -2.175054 -0.144832 -0.123675 -1.772311 -6.163071   \n",
              "1   0 -1.019531 -1.523636 -2.175054 -0.144832 -0.123675 -1.772311 -6.163071   \n",
              "2   0 -1.019531 -1.523636 -2.175054 -0.144832 -0.123675 -1.772311 -6.163071   \n",
              "3   0 -1.019531 -1.523636 -2.175054 -0.144832 -0.123675 -1.772311 -6.163071   \n",
              "4   0 -1.019531 -1.523636 -2.175054 -0.144832 -0.123675 -1.772311 -6.163071   \n",
              "\n",
              "         BP        BQ  ...       EG        EP       FD         FE        FI  \\\n",
              "0 -1.258257 -1.027457  ... -0.96784 -1.536197 -0.107108 -0.910326 -3.448942   \n",
              "1 -1.258257 -1.027457  ... -0.96784 -1.536197 -0.107108 -0.910326 -3.448942   \n",
              "2 -1.258257 -1.027457  ... -0.96784 -1.536197 -0.107108 -0.910326 -3.448942   \n",
              "3 -1.258257 -1.027457  ... -0.96784 -1.536197 -0.107108 -0.910326 -3.448942   \n",
              "4 -1.258257 -1.027457  ... -0.96784 -1.536197 -0.107108 -0.910326 -3.448942   \n",
              "\n",
              "        FL        FR        GE        GF        GH  \n",
              "0 -0.47299 -0.070479 -0.914277 -0.759135 -3.194901  \n",
              "1 -0.47299 -0.070479 -0.914277 -0.759135 -3.194901  \n",
              "2 -0.47299 -0.070479 -0.914277 -0.759135 -3.194901  \n",
              "3 -0.47299 -0.070479 -0.914277 -0.759135 -3.194901  \n",
              "4 -0.47299 -0.070479 -0.914277 -0.759135 -3.194901  \n",
              "\n",
              "[5 rows x 42 columns]"
            ],
            "text/html": [
              "\n",
              "  <div id=\"df-75b599e6-0f55-408e-b256-d84597487d51\">\n",
              "    <div class=\"colab-df-container\">\n",
              "      <div>\n",
              "<style scoped>\n",
              "    .dataframe tbody tr th:only-of-type {\n",
              "        vertical-align: middle;\n",
              "    }\n",
              "\n",
              "    .dataframe tbody tr th {\n",
              "        vertical-align: top;\n",
              "    }\n",
              "\n",
              "    .dataframe thead th {\n",
              "        text-align: right;\n",
              "    }\n",
              "</style>\n",
              "<table border=\"1\" class=\"dataframe\">\n",
              "  <thead>\n",
              "    <tr style=\"text-align: right;\">\n",
              "      <th></th>\n",
              "      <th>EJ</th>\n",
              "      <th>AB</th>\n",
              "      <th>AF</th>\n",
              "      <th>AX</th>\n",
              "      <th>AY</th>\n",
              "      <th>BC</th>\n",
              "      <th>BD</th>\n",
              "      <th>BN</th>\n",
              "      <th>BP</th>\n",
              "      <th>BQ</th>\n",
              "      <th>...</th>\n",
              "      <th>EG</th>\n",
              "      <th>EP</th>\n",
              "      <th>FD</th>\n",
              "      <th>FE</th>\n",
              "      <th>FI</th>\n",
              "      <th>FL</th>\n",
              "      <th>FR</th>\n",
              "      <th>GE</th>\n",
              "      <th>GF</th>\n",
              "      <th>GH</th>\n",
              "    </tr>\n",
              "  </thead>\n",
              "  <tbody>\n",
              "    <tr>\n",
              "      <th>0</th>\n",
              "      <td>0</td>\n",
              "      <td>-1.019531</td>\n",
              "      <td>-1.523636</td>\n",
              "      <td>-2.175054</td>\n",
              "      <td>-0.144832</td>\n",
              "      <td>-0.123675</td>\n",
              "      <td>-1.772311</td>\n",
              "      <td>-6.163071</td>\n",
              "      <td>-1.258257</td>\n",
              "      <td>-1.027457</td>\n",
              "      <td>...</td>\n",
              "      <td>-0.96784</td>\n",
              "      <td>-1.536197</td>\n",
              "      <td>-0.107108</td>\n",
              "      <td>-0.910326</td>\n",
              "      <td>-3.448942</td>\n",
              "      <td>-0.47299</td>\n",
              "      <td>-0.070479</td>\n",
              "      <td>-0.914277</td>\n",
              "      <td>-0.759135</td>\n",
              "      <td>-3.194901</td>\n",
              "    </tr>\n",
              "    <tr>\n",
              "      <th>1</th>\n",
              "      <td>0</td>\n",
              "      <td>-1.019531</td>\n",
              "      <td>-1.523636</td>\n",
              "      <td>-2.175054</td>\n",
              "      <td>-0.144832</td>\n",
              "      <td>-0.123675</td>\n",
              "      <td>-1.772311</td>\n",
              "      <td>-6.163071</td>\n",
              "      <td>-1.258257</td>\n",
              "      <td>-1.027457</td>\n",
              "      <td>...</td>\n",
              "      <td>-0.96784</td>\n",
              "      <td>-1.536197</td>\n",
              "      <td>-0.107108</td>\n",
              "      <td>-0.910326</td>\n",
              "      <td>-3.448942</td>\n",
              "      <td>-0.47299</td>\n",
              "      <td>-0.070479</td>\n",
              "      <td>-0.914277</td>\n",
              "      <td>-0.759135</td>\n",
              "      <td>-3.194901</td>\n",
              "    </tr>\n",
              "    <tr>\n",
              "      <th>2</th>\n",
              "      <td>0</td>\n",
              "      <td>-1.019531</td>\n",
              "      <td>-1.523636</td>\n",
              "      <td>-2.175054</td>\n",
              "      <td>-0.144832</td>\n",
              "      <td>-0.123675</td>\n",
              "      <td>-1.772311</td>\n",
              "      <td>-6.163071</td>\n",
              "      <td>-1.258257</td>\n",
              "      <td>-1.027457</td>\n",
              "      <td>...</td>\n",
              "      <td>-0.96784</td>\n",
              "      <td>-1.536197</td>\n",
              "      <td>-0.107108</td>\n",
              "      <td>-0.910326</td>\n",
              "      <td>-3.448942</td>\n",
              "      <td>-0.47299</td>\n",
              "      <td>-0.070479</td>\n",
              "      <td>-0.914277</td>\n",
              "      <td>-0.759135</td>\n",
              "      <td>-3.194901</td>\n",
              "    </tr>\n",
              "    <tr>\n",
              "      <th>3</th>\n",
              "      <td>0</td>\n",
              "      <td>-1.019531</td>\n",
              "      <td>-1.523636</td>\n",
              "      <td>-2.175054</td>\n",
              "      <td>-0.144832</td>\n",
              "      <td>-0.123675</td>\n",
              "      <td>-1.772311</td>\n",
              "      <td>-6.163071</td>\n",
              "      <td>-1.258257</td>\n",
              "      <td>-1.027457</td>\n",
              "      <td>...</td>\n",
              "      <td>-0.96784</td>\n",
              "      <td>-1.536197</td>\n",
              "      <td>-0.107108</td>\n",
              "      <td>-0.910326</td>\n",
              "      <td>-3.448942</td>\n",
              "      <td>-0.47299</td>\n",
              "      <td>-0.070479</td>\n",
              "      <td>-0.914277</td>\n",
              "      <td>-0.759135</td>\n",
              "      <td>-3.194901</td>\n",
              "    </tr>\n",
              "    <tr>\n",
              "      <th>4</th>\n",
              "      <td>0</td>\n",
              "      <td>-1.019531</td>\n",
              "      <td>-1.523636</td>\n",
              "      <td>-2.175054</td>\n",
              "      <td>-0.144832</td>\n",
              "      <td>-0.123675</td>\n",
              "      <td>-1.772311</td>\n",
              "      <td>-6.163071</td>\n",
              "      <td>-1.258257</td>\n",
              "      <td>-1.027457</td>\n",
              "      <td>...</td>\n",
              "      <td>-0.96784</td>\n",
              "      <td>-1.536197</td>\n",
              "      <td>-0.107108</td>\n",
              "      <td>-0.910326</td>\n",
              "      <td>-3.448942</td>\n",
              "      <td>-0.47299</td>\n",
              "      <td>-0.070479</td>\n",
              "      <td>-0.914277</td>\n",
              "      <td>-0.759135</td>\n",
              "      <td>-3.194901</td>\n",
              "    </tr>\n",
              "  </tbody>\n",
              "</table>\n",
              "<p>5 rows × 42 columns</p>\n",
              "</div>\n",
              "      <button class=\"colab-df-convert\" onclick=\"convertToInteractive('df-75b599e6-0f55-408e-b256-d84597487d51')\"\n",
              "              title=\"Convert this dataframe to an interactive table.\"\n",
              "              style=\"display:none;\">\n",
              "        \n",
              "  <svg xmlns=\"http://www.w3.org/2000/svg\" height=\"24px\"viewBox=\"0 0 24 24\"\n",
              "       width=\"24px\">\n",
              "    <path d=\"M0 0h24v24H0V0z\" fill=\"none\"/>\n",
              "    <path d=\"M18.56 5.44l.94 2.06.94-2.06 2.06-.94-2.06-.94-.94-2.06-.94 2.06-2.06.94zm-11 1L8.5 8.5l.94-2.06 2.06-.94-2.06-.94L8.5 2.5l-.94 2.06-2.06.94zm10 10l.94 2.06.94-2.06 2.06-.94-2.06-.94-.94-2.06-.94 2.06-2.06.94z\"/><path d=\"M17.41 7.96l-1.37-1.37c-.4-.4-.92-.59-1.43-.59-.52 0-1.04.2-1.43.59L10.3 9.45l-7.72 7.72c-.78.78-.78 2.05 0 2.83L4 21.41c.39.39.9.59 1.41.59.51 0 1.02-.2 1.41-.59l7.78-7.78 2.81-2.81c.8-.78.8-2.07 0-2.86zM5.41 20L4 18.59l7.72-7.72 1.47 1.35L5.41 20z\"/>\n",
              "  </svg>\n",
              "      </button>\n",
              "      \n",
              "  <style>\n",
              "    .colab-df-container {\n",
              "      display:flex;\n",
              "      flex-wrap:wrap;\n",
              "      gap: 12px;\n",
              "    }\n",
              "\n",
              "    .colab-df-convert {\n",
              "      background-color: #E8F0FE;\n",
              "      border: none;\n",
              "      border-radius: 50%;\n",
              "      cursor: pointer;\n",
              "      display: none;\n",
              "      fill: #1967D2;\n",
              "      height: 32px;\n",
              "      padding: 0 0 0 0;\n",
              "      width: 32px;\n",
              "    }\n",
              "\n",
              "    .colab-df-convert:hover {\n",
              "      background-color: #E2EBFA;\n",
              "      box-shadow: 0px 1px 2px rgba(60, 64, 67, 0.3), 0px 1px 3px 1px rgba(60, 64, 67, 0.15);\n",
              "      fill: #174EA6;\n",
              "    }\n",
              "\n",
              "    [theme=dark] .colab-df-convert {\n",
              "      background-color: #3B4455;\n",
              "      fill: #D2E3FC;\n",
              "    }\n",
              "\n",
              "    [theme=dark] .colab-df-convert:hover {\n",
              "      background-color: #434B5C;\n",
              "      box-shadow: 0px 1px 3px 1px rgba(0, 0, 0, 0.15);\n",
              "      filter: drop-shadow(0px 1px 2px rgba(0, 0, 0, 0.3));\n",
              "      fill: #FFFFFF;\n",
              "    }\n",
              "  </style>\n",
              "\n",
              "      <script>\n",
              "        const buttonEl =\n",
              "          document.querySelector('#df-75b599e6-0f55-408e-b256-d84597487d51 button.colab-df-convert');\n",
              "        buttonEl.style.display =\n",
              "          google.colab.kernel.accessAllowed ? 'block' : 'none';\n",
              "\n",
              "        async function convertToInteractive(key) {\n",
              "          const element = document.querySelector('#df-75b599e6-0f55-408e-b256-d84597487d51');\n",
              "          const dataTable =\n",
              "            await google.colab.kernel.invokeFunction('convertToInteractive',\n",
              "                                                     [key], {});\n",
              "          if (!dataTable) return;\n",
              "\n",
              "          const docLinkHtml = 'Like what you see? Visit the ' +\n",
              "            '<a target=\"_blank\" href=https://colab.research.google.com/notebooks/data_table.ipynb>data table notebook</a>'\n",
              "            + ' to learn more about interactive tables.';\n",
              "          element.innerHTML = '';\n",
              "          dataTable['output_type'] = 'display_data';\n",
              "          await google.colab.output.renderOutput(dataTable, element);\n",
              "          const docLink = document.createElement('div');\n",
              "          docLink.innerHTML = docLinkHtml;\n",
              "          element.appendChild(docLink);\n",
              "        }\n",
              "      </script>\n",
              "    </div>\n",
              "  </div>\n",
              "  "
            ]
          },
          "metadata": {},
          "execution_count": 93
        }
      ]
    },
    {
      "cell_type": "code",
      "source": [
        "class_probs = best_model.predict_proba(test_data)"
      ],
      "metadata": {
        "id": "9JHZ6MEOjysu"
      },
      "execution_count": null,
      "outputs": []
    },
    {
      "cell_type": "code",
      "source": [
        "label= test_data.shape[0]\n",
        "class_probs=class_probs.astype(float)\n",
        "class_probs.resize(label,1)"
      ],
      "metadata": {
        "id": "SnlZs6WgoSC_"
      },
      "execution_count": null,
      "outputs": []
    },
    {
      "cell_type": "code",
      "source": [
        "class_probs.shape"
      ],
      "metadata": {
        "colab": {
          "base_uri": "https://localhost:8080/"
        },
        "id": "8bVhxjHgpN1Q",
        "outputId": "0e332c07-7c6e-4187-cb79-121976aaa55c"
      },
      "execution_count": null,
      "outputs": [
        {
          "output_type": "execute_result",
          "data": {
            "text/plain": [
              "(5, 1)"
            ]
          },
          "metadata": {},
          "execution_count": 115
        }
      ]
    },
    {
      "cell_type": "code",
      "source": [
        "sample_sub=pd.read_csv('/content/sample_submission.csv')"
      ],
      "metadata": {
        "id": "Tv44hoHdpRIA"
      },
      "execution_count": null,
      "outputs": []
    },
    {
      "cell_type": "code",
      "source": [
        "sample_sub"
      ],
      "metadata": {
        "colab": {
          "base_uri": "https://localhost:8080/",
          "height": 206
        },
        "id": "6uYlun-_pj2L",
        "outputId": "c26506b9-7865-47d8-bd04-af03b0d14f28"
      },
      "execution_count": null,
      "outputs": [
        {
          "output_type": "execute_result",
          "data": {
            "text/plain": [
              "             Id  class_0  class_1\n",
              "0  00eed32682bb      0.5      0.5\n",
              "1  010ebe33f668      0.5      0.5\n",
              "2  02fa521e1838      0.5      0.5\n",
              "3  040e15f562a2      0.5      0.5\n",
              "4  046e85c7cc7f      0.5      0.5"
            ],
            "text/html": [
              "\n",
              "  <div id=\"df-8464b3f5-1459-4cfa-b411-63ab376cd5a4\">\n",
              "    <div class=\"colab-df-container\">\n",
              "      <div>\n",
              "<style scoped>\n",
              "    .dataframe tbody tr th:only-of-type {\n",
              "        vertical-align: middle;\n",
              "    }\n",
              "\n",
              "    .dataframe tbody tr th {\n",
              "        vertical-align: top;\n",
              "    }\n",
              "\n",
              "    .dataframe thead th {\n",
              "        text-align: right;\n",
              "    }\n",
              "</style>\n",
              "<table border=\"1\" class=\"dataframe\">\n",
              "  <thead>\n",
              "    <tr style=\"text-align: right;\">\n",
              "      <th></th>\n",
              "      <th>Id</th>\n",
              "      <th>class_0</th>\n",
              "      <th>class_1</th>\n",
              "    </tr>\n",
              "  </thead>\n",
              "  <tbody>\n",
              "    <tr>\n",
              "      <th>0</th>\n",
              "      <td>00eed32682bb</td>\n",
              "      <td>0.5</td>\n",
              "      <td>0.5</td>\n",
              "    </tr>\n",
              "    <tr>\n",
              "      <th>1</th>\n",
              "      <td>010ebe33f668</td>\n",
              "      <td>0.5</td>\n",
              "      <td>0.5</td>\n",
              "    </tr>\n",
              "    <tr>\n",
              "      <th>2</th>\n",
              "      <td>02fa521e1838</td>\n",
              "      <td>0.5</td>\n",
              "      <td>0.5</td>\n",
              "    </tr>\n",
              "    <tr>\n",
              "      <th>3</th>\n",
              "      <td>040e15f562a2</td>\n",
              "      <td>0.5</td>\n",
              "      <td>0.5</td>\n",
              "    </tr>\n",
              "    <tr>\n",
              "      <th>4</th>\n",
              "      <td>046e85c7cc7f</td>\n",
              "      <td>0.5</td>\n",
              "      <td>0.5</td>\n",
              "    </tr>\n",
              "  </tbody>\n",
              "</table>\n",
              "</div>\n",
              "      <button class=\"colab-df-convert\" onclick=\"convertToInteractive('df-8464b3f5-1459-4cfa-b411-63ab376cd5a4')\"\n",
              "              title=\"Convert this dataframe to an interactive table.\"\n",
              "              style=\"display:none;\">\n",
              "        \n",
              "  <svg xmlns=\"http://www.w3.org/2000/svg\" height=\"24px\"viewBox=\"0 0 24 24\"\n",
              "       width=\"24px\">\n",
              "    <path d=\"M0 0h24v24H0V0z\" fill=\"none\"/>\n",
              "    <path d=\"M18.56 5.44l.94 2.06.94-2.06 2.06-.94-2.06-.94-.94-2.06-.94 2.06-2.06.94zm-11 1L8.5 8.5l.94-2.06 2.06-.94-2.06-.94L8.5 2.5l-.94 2.06-2.06.94zm10 10l.94 2.06.94-2.06 2.06-.94-2.06-.94-.94-2.06-.94 2.06-2.06.94z\"/><path d=\"M17.41 7.96l-1.37-1.37c-.4-.4-.92-.59-1.43-.59-.52 0-1.04.2-1.43.59L10.3 9.45l-7.72 7.72c-.78.78-.78 2.05 0 2.83L4 21.41c.39.39.9.59 1.41.59.51 0 1.02-.2 1.41-.59l7.78-7.78 2.81-2.81c.8-.78.8-2.07 0-2.86zM5.41 20L4 18.59l7.72-7.72 1.47 1.35L5.41 20z\"/>\n",
              "  </svg>\n",
              "      </button>\n",
              "      \n",
              "  <style>\n",
              "    .colab-df-container {\n",
              "      display:flex;\n",
              "      flex-wrap:wrap;\n",
              "      gap: 12px;\n",
              "    }\n",
              "\n",
              "    .colab-df-convert {\n",
              "      background-color: #E8F0FE;\n",
              "      border: none;\n",
              "      border-radius: 50%;\n",
              "      cursor: pointer;\n",
              "      display: none;\n",
              "      fill: #1967D2;\n",
              "      height: 32px;\n",
              "      padding: 0 0 0 0;\n",
              "      width: 32px;\n",
              "    }\n",
              "\n",
              "    .colab-df-convert:hover {\n",
              "      background-color: #E2EBFA;\n",
              "      box-shadow: 0px 1px 2px rgba(60, 64, 67, 0.3), 0px 1px 3px 1px rgba(60, 64, 67, 0.15);\n",
              "      fill: #174EA6;\n",
              "    }\n",
              "\n",
              "    [theme=dark] .colab-df-convert {\n",
              "      background-color: #3B4455;\n",
              "      fill: #D2E3FC;\n",
              "    }\n",
              "\n",
              "    [theme=dark] .colab-df-convert:hover {\n",
              "      background-color: #434B5C;\n",
              "      box-shadow: 0px 1px 3px 1px rgba(0, 0, 0, 0.15);\n",
              "      filter: drop-shadow(0px 1px 2px rgba(0, 0, 0, 0.3));\n",
              "      fill: #FFFFFF;\n",
              "    }\n",
              "  </style>\n",
              "\n",
              "      <script>\n",
              "        const buttonEl =\n",
              "          document.querySelector('#df-8464b3f5-1459-4cfa-b411-63ab376cd5a4 button.colab-df-convert');\n",
              "        buttonEl.style.display =\n",
              "          google.colab.kernel.accessAllowed ? 'block' : 'none';\n",
              "\n",
              "        async function convertToInteractive(key) {\n",
              "          const element = document.querySelector('#df-8464b3f5-1459-4cfa-b411-63ab376cd5a4');\n",
              "          const dataTable =\n",
              "            await google.colab.kernel.invokeFunction('convertToInteractive',\n",
              "                                                     [key], {});\n",
              "          if (!dataTable) return;\n",
              "\n",
              "          const docLinkHtml = 'Like what you see? Visit the ' +\n",
              "            '<a target=\"_blank\" href=https://colab.research.google.com/notebooks/data_table.ipynb>data table notebook</a>'\n",
              "            + ' to learn more about interactive tables.';\n",
              "          element.innerHTML = '';\n",
              "          dataTable['output_type'] = 'display_data';\n",
              "          await google.colab.output.renderOutput(dataTable, element);\n",
              "          const docLink = document.createElement('div');\n",
              "          docLink.innerHTML = docLinkHtml;\n",
              "          element.appendChild(docLink);\n",
              "        }\n",
              "      </script>\n",
              "    </div>\n",
              "  </div>\n",
              "  "
            ]
          },
          "metadata": {},
          "execution_count": 117
        }
      ]
    },
    {
      "cell_type": "code",
      "source": [
        "sample_sub[['class_1']]=class_probs"
      ],
      "metadata": {
        "id": "5eHy42ZEplUj"
      },
      "execution_count": null,
      "outputs": []
    },
    {
      "cell_type": "code",
      "source": [
        "sample_sub[['class_0']]=1-class_probs"
      ],
      "metadata": {
        "id": "1jdPhK_Xp4i1"
      },
      "execution_count": null,
      "outputs": []
    },
    {
      "cell_type": "code",
      "source": [],
      "metadata": {
        "id": "dv5oWr8sC9Lg"
      },
      "execution_count": null,
      "outputs": []
    }
  ]
}